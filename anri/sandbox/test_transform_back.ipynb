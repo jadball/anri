{
 "cells": [
  {
   "cell_type": "code",
   "execution_count": 1,
   "id": "b54c0df0-9731-4b5c-b5b3-a0805e63cc40",
   "metadata": {},
   "outputs": [],
   "source": [
    "import os\n",
    "os.environ[\"XLA_PYTHON_CLIENT_PREALLOCATE\"] = \"0\"\n",
    "\n",
    "import numpy as np\n",
    "import jax\n",
    "import jax.numpy as jnp\n",
    "jax.config.update(\"jax_enable_x64\", True)\n",
    "jax.config.update(\"jax_platforms\", 'cpu')\n",
    "\n",
    "\n",
    "from ImageD11.parameters import AnalysisSchema\n",
    "from ImageD11.columnfile import columnfile"
   ]
  },
  {
   "cell_type": "code",
   "execution_count": 2,
   "id": "91a00602-c061-44af-b028-972c4e8efc05",
   "metadata": {},
   "outputs": [],
   "source": [
    "pars = AnalysisSchema.from_default().geometry_pars_obj"
   ]
  },
  {
   "cell_type": "code",
   "execution_count": 3,
   "id": "7a1c556d-45b0-466a-9fa3-95ab6f1a0974",
   "metadata": {},
   "outputs": [],
   "source": [
    "pars.set('tilt_x', 0.00123)\n",
    "pars.set('tilt_y', -0.0345)\n",
    "pars.set('tilt_z', 0.02)\n",
    "pars.set('chi', 1)\n",
    "pars.set('wedge', -3)\n",
    "pars.set('t_x', 1)\n",
    "pars.set('t_y', 2)\n",
    "pars.set('t_z', 3)"
   ]
  },
  {
   "cell_type": "code",
   "execution_count": 4,
   "id": "c6623917-b6ea-4cb6-836b-b298d84f0650",
   "metadata": {},
   "outputs": [],
   "source": [
    "nrows = 100_000\n",
    "\n",
    "fc = np.random.random(nrows) * 2048\n",
    "sc = np.random.random(nrows) * 2048\n",
    "om = np.random.random(nrows) * 360"
   ]
  },
  {
   "cell_type": "code",
   "execution_count": 5,
   "id": "5fdf6b4e-dd56-4825-9928-afb5bbc5b334",
   "metadata": {},
   "outputs": [],
   "source": [
    "cf = columnfile(new=True)\n",
    "cf.nrows = nrows\n",
    "\n",
    "cf.addcolumn(fc, 'fc')\n",
    "cf.addcolumn(sc, 'sc')\n",
    "cf.addcolumn(om, 'omega')"
   ]
  },
  {
   "cell_type": "code",
   "execution_count": 6,
   "id": "d3d8167d-b6b8-42bf-a3a4-2a72d3e48d13",
   "metadata": {},
   "outputs": [],
   "source": [
    "cf.parameters = pars"
   ]
  },
  {
   "cell_type": "code",
   "execution_count": 7,
   "id": "2bea32aa-6013-4c07-9896-33edb413c128",
   "metadata": {},
   "outputs": [],
   "source": [
    "cf.updateGeometry()"
   ]
  },
  {
   "cell_type": "code",
   "execution_count": 8,
   "id": "18cc8aec-7665-4b49-82a1-221a522719d3",
   "metadata": {},
   "outputs": [
    {
     "data": {
      "text/plain": [
       "['fc', 'sc', 'omega', 'xl', 'yl', 'zl', 'tth', 'eta', 'ds', 'gx', 'gy', 'gz']"
      ]
     },
     "execution_count": 8,
     "metadata": {},
     "output_type": "execute_result"
    }
   ],
   "source": [
    "cf.titles"
   ]
  },
  {
   "cell_type": "code",
   "execution_count": 9,
   "id": "df76ef09-2e53-4b90-b8fe-607307fafd24",
   "metadata": {},
   "outputs": [],
   "source": [
    "gvecs = np.column_stack([cf.gx, cf.gy, cf.gz])"
   ]
  },
  {
   "cell_type": "code",
   "execution_count": 10,
   "id": "58142fad-7b5f-44f5-9fb1-5db38fb1024c",
   "metadata": {},
   "outputs": [],
   "source": [
    "import ImageD11.transform, ImageD11.gv_general"
   ]
  },
  {
   "cell_type": "code",
   "execution_count": 11,
   "id": "dd84233e-ba05-4e6b-baac-af2747345372",
   "metadata": {},
   "outputs": [],
   "source": [
    "import transform as mytrans"
   ]
  },
  {
   "cell_type": "code",
   "execution_count": 12,
   "id": "36cde0e7-ed8e-4a45-90dd-5fc9c5c12ebe",
   "metadata": {},
   "outputs": [
    {
     "data": {
      "text/plain": [
       "<module 'transform' from '/home/esrf/james1997a/Code/Anri/anri/sandbox/transform.py'>"
      ]
     },
     "execution_count": 12,
     "metadata": {},
     "output_type": "execute_result"
    }
   ],
   "source": [
    "import importlib\n",
    "importlib.reload(mytrans)"
   ]
  },
  {
   "cell_type": "markdown",
   "id": "6e715b46-cd26-4db0-a761-33a79f9fb61f",
   "metadata": {},
   "source": [
    "# Test k-vectors to (tth, eta)"
   ]
  },
  {
   "cell_type": "code",
   "execution_count": 15,
   "id": "2a7e1c43-1af6-4b9b-9eb2-b57fed45b635",
   "metadata": {},
   "outputs": [],
   "source": [
    "k_id11 = ImageD11.transform.compute_k_vectors(cf.tth, cf.eta, pars.get('wavelength'))"
   ]
  },
  {
   "cell_type": "code",
   "execution_count": 18,
   "id": "9a44ef29-74f1-4564-9f6f-08ea138d32f5",
   "metadata": {},
   "outputs": [],
   "source": [
    "tth_me, eta_me = mytrans.k_to_tth_eta(k_id11.T, pars.get('wavelength'))"
   ]
  },
  {
   "cell_type": "code",
   "execution_count": 19,
   "id": "f3c2a207-2a10-48f0-9de7-87a9c7d85fcb",
   "metadata": {},
   "outputs": [],
   "source": [
    "assert np.allclose(tth_me, cf.tth)\n",
    "assert np.allclose(eta_me, cf.eta)"
   ]
  },
  {
   "cell_type": "markdown",
   "id": "56990c2d-8dca-4d66-bb54-eb57503c85da",
   "metadata": {},
   "source": [
    "# Test k to (sc, fc)"
   ]
  },
  {
   "cell_type": "code",
   "execution_count": 21,
   "id": "b92d0881-b3d6-4896-b789-80049cbf0ccd",
   "metadata": {},
   "outputs": [],
   "source": [
    "sc_me, fc_me = mytrans.k_to_det(k_id11.T, cf.omega, jnp.array((pars.get('t_x'), pars.get('t_y'), pars.get('t_z'))),\n",
    "                                 pars.get('wedge'), pars.get('chi'), pars.get('wavelength'),\n",
    "                                pars.get('y_center'), pars.get('y_size'), pars.get('tilt_y'),\n",
    "                                  pars.get('z_center'), pars.get('z_size'), pars.get('tilt_z'),\n",
    "                                  pars.get('tilt_x'),\n",
    "                                  pars.get('distance'),\n",
    "                                  pars.get('o11'), pars.get('o12'), pars.get('o21'),pars.get('o22'), )"
   ]
  },
  {
   "cell_type": "code",
   "execution_count": 22,
   "id": "362a764d-d85a-4d1a-8fc5-9ceb44d643fe",
   "metadata": {},
   "outputs": [],
   "source": [
    "assert np.allclose(sc_me, cf.sc)\n",
    "assert np.allclose(fc_me, cf.fc)"
   ]
  },
  {
   "cell_type": "markdown",
   "id": "a38a002e-6228-4198-9c4c-f40b4c58410c",
   "metadata": {},
   "source": [
    "# Test (xl, yl, zl) to (sc, fc)"
   ]
  },
  {
   "cell_type": "code",
   "execution_count": 26,
   "id": "e97cbcad-2db9-4928-a9d6-6915ce4f3077",
   "metadata": {},
   "outputs": [],
   "source": [
    "sc_me, fc_me = mytrans.xyz_lab_to_det(cf.xl, cf.yl, cf.zl, pars.get('y_center'), pars.get('y_size'), pars.get('tilt_y'),\n",
    "                                  pars.get('z_center'), pars.get('z_size'), pars.get('tilt_z'),\n",
    "                                  pars.get('tilt_x'),\n",
    "                                  pars.get('distance'),\n",
    "                                  pars.get('o11'), pars.get('o12'), pars.get('o21'),pars.get('o22')).T"
   ]
  },
  {
   "cell_type": "code",
   "execution_count": 29,
   "id": "51f5a4d1-be94-4084-b1c5-c44e631830a8",
   "metadata": {},
   "outputs": [],
   "source": [
    "assert np.allclose(sc_me, cf.sc)\n",
    "assert np.allclose(fc_me, cf.fc)"
   ]
  },
  {
   "cell_type": "markdown",
   "id": "d1c014dd-296e-4fac-8c3e-137d9a8a7a02",
   "metadata": {},
   "source": [
    "# Test uncompute g"
   ]
  },
  {
   "cell_type": "code",
   "execution_count": 33,
   "id": "6576eefe-a5bb-446c-b7bd-85d36d0242e9",
   "metadata": {},
   "outputs": [],
   "source": [
    "tth_id11, (eta1_id11, eta2_id11), (omega1_id11, omega2_id11) = ImageD11.transform.uncompute_g_vectors(gvecs.T, pars.get('wavelength'), pars.get('wedge'), pars.get('chi'))"
   ]
  },
  {
   "cell_type": "code",
   "execution_count": 30,
   "id": "41afeb8e-8c68-49d6-96f1-51314844f915",
   "metadata": {},
   "outputs": [],
   "source": [
    "tth_me, (eta1_me, eta2_me), (omega1_me, omega2_me) = mytrans.g_to_tth_eta_omega(gvecs, pars.get('wedge'), pars.get('chi'), pars.get('wavelength'))"
   ]
  },
  {
   "cell_type": "code",
   "execution_count": 34,
   "id": "5ab8312e-de14-4552-a886-edb1d0762149",
   "metadata": {},
   "outputs": [],
   "source": [
    "assert np.allclose(tth_id11, tth_me)\n",
    "assert np.allclose(eta1_id11, eta1_me)\n",
    "assert np.allclose(eta2_id11, eta2_me)\n",
    "assert np.allclose(omega1_id11, omega1_me)\n",
    "assert np.allclose(omega2_id11, omega2_me)"
   ]
  },
  {
   "cell_type": "code",
   "execution_count": null,
   "id": "2764359d-7038-404e-8d4f-698ff6f221c2",
   "metadata": {},
   "outputs": [],
   "source": []
  }
 ],
 "metadata": {
  "kernelspec": {
   "display_name": "Python 3 (main)",
   "language": "python",
   "name": "python3"
  },
  "language_info": {
   "codemirror_mode": {
    "name": "ipython",
    "version": 3
   },
   "file_extension": ".py",
   "mimetype": "text/x-python",
   "name": "python",
   "nbconvert_exporter": "python",
   "pygments_lexer": "ipython3",
   "version": "3.12.9"
  }
 },
 "nbformat": 4,
 "nbformat_minor": 5
}
