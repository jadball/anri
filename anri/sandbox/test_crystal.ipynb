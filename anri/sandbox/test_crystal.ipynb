{
 "cells": [
  {
   "cell_type": "code",
   "execution_count": null,
   "metadata": {},
   "outputs": [],
   "source": [
    "import matplotlib.pyplot as plt\n",
    "import numpy as np\n",
    "\n",
    "%matplotlib widget"
   ]
  },
  {
   "cell_type": "code",
   "execution_count": null,
   "metadata": {},
   "outputs": [],
   "source": [
    "def qpv(vectors, labels=None):\n",
    "    vectors = vectors / np.linalg.norm(vectors, axis=1)[:, np.newaxis]\n",
    "\n",
    "    # Extract components\n",
    "    X, Y, Z = np.zeros(len(vectors)), np.zeros(len(vectors)), np.zeros(len(vectors))  # Origins at (0,0,0)\n",
    "    U, V, W = vectors[:, 0], vectors[:, 1], vectors[:, 2]  # Vector components\n",
    "\n",
    "    # Create figure and 3D axis\n",
    "    fig = plt.figure()\n",
    "    ax = fig.add_subplot(111, projection=\"3d\", proj_type=\"ortho\")\n",
    "\n",
    "    # Plot quiver\n",
    "    ax.quiver(X, Y, Z, U, V, W, color=\"b\", length=1, normalize=False)\n",
    "\n",
    "    if labels is not None:\n",
    "        for i, label in enumerate(labels):\n",
    "            ax.text(U[i], V[i], W[i], label, color=\"r\", fontsize=12, weight=\"bold\")\n",
    "\n",
    "    ax.set_xlim([-1, 1])\n",
    "    ax.set_ylim([-1, 1])\n",
    "    ax.set_zlim([-1, 1])\n",
    "    ax.set_xlabel(\"X\")\n",
    "    ax.set_ylabel(\"Y\")\n",
    "    ax.set_zlabel(\"Z\")\n",
    "\n",
    "    ax.set_aspect(\"equal\")\n",
    "\n",
    "    return fig, ax"
   ]
  }
 ],
 "metadata": {
  "kernelspec": {
   "display_name": "Python 3",
   "language": "python",
   "name": "python3"
  },
  "language_info": {
   "codemirror_mode": {
    "name": "ipython",
    "version": 3
   },
   "file_extension": ".py",
   "mimetype": "text/x-python",
   "name": "python",
   "nbconvert_exporter": "python",
   "pygments_lexer": "ipython3",
   "version": "3.11.11"
  }
 },
 "nbformat": 4,
 "nbformat_minor": 2
}
