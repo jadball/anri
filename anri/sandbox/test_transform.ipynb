{
 "cells": [
  {
   "cell_type": "code",
   "execution_count": 1,
   "id": "b54c0df0-9731-4b5c-b5b3-a0805e63cc40",
   "metadata": {},
   "outputs": [],
   "source": [
    "import os\n",
    "os.environ[\"XLA_PYTHON_CLIENT_PREALLOCATE\"] = \"0\"\n",
    "\n",
    "import numpy as np\n",
    "import jax\n",
    "import jax.numpy as jnp\n",
    "jax.config.update(\"jax_enable_x64\", True)\n",
    "\n",
    "\n",
    "from ImageD11.parameters import AnalysisSchema\n",
    "from ImageD11.columnfile import columnfile"
   ]
  },
  {
   "cell_type": "code",
   "execution_count": 2,
   "id": "91a00602-c061-44af-b028-972c4e8efc05",
   "metadata": {},
   "outputs": [],
   "source": [
    "pars = AnalysisSchema.from_default().geometry_pars_obj"
   ]
  },
  {
   "cell_type": "code",
   "execution_count": 3,
   "id": "7a1c556d-45b0-466a-9fa3-95ab6f1a0974",
   "metadata": {},
   "outputs": [],
   "source": [
    "pars.set('tilt_x', 0.00123)\n",
    "pars.set('tilt_y', -0.0345)\n",
    "pars.set('tilt_z', 0.02)\n",
    "pars.set('chi', 1)\n",
    "pars.set('wedge', -3)"
   ]
  },
  {
   "cell_type": "code",
   "execution_count": 4,
   "id": "c6623917-b6ea-4cb6-836b-b298d84f0650",
   "metadata": {},
   "outputs": [],
   "source": [
    "nrows = 100_000_000\n",
    "fc = np.random.random(nrows) * 2048\n",
    "sc = np.random.random(nrows) * 2048\n",
    "om = np.random.random(nrows) * 360"
   ]
  },
  {
   "cell_type": "code",
   "execution_count": 5,
   "id": "5fdf6b4e-dd56-4825-9928-afb5bbc5b334",
   "metadata": {},
   "outputs": [],
   "source": [
    "cf = columnfile(new=True)\n",
    "cf.nrows = nrows\n",
    "\n",
    "cf.addcolumn(fc, 'fc')\n",
    "cf.addcolumn(sc, 'sc')\n",
    "cf.addcolumn(om, 'omega')"
   ]
  },
  {
   "cell_type": "code",
   "execution_count": 6,
   "id": "d3d8167d-b6b8-42bf-a3a4-2a72d3e48d13",
   "metadata": {},
   "outputs": [],
   "source": [
    "cf.parameters = pars"
   ]
  },
  {
   "cell_type": "code",
   "execution_count": 7,
   "id": "2bea32aa-6013-4c07-9896-33edb413c128",
   "metadata": {},
   "outputs": [],
   "source": [
    "cf.updateGeometry()"
   ]
  },
  {
   "cell_type": "code",
   "execution_count": 8,
   "id": "18cc8aec-7665-4b49-82a1-221a522719d3",
   "metadata": {},
   "outputs": [
    {
     "data": {
      "text/plain": [
       "['fc', 'sc', 'omega', 'xl', 'yl', 'zl', 'tth', 'eta', 'ds', 'gx', 'gy', 'gz']"
      ]
     },
     "execution_count": 8,
     "metadata": {},
     "output_type": "execute_result"
    }
   ],
   "source": [
    "cf.titles"
   ]
  },
  {
   "cell_type": "code",
   "execution_count": 9,
   "id": "58142fad-7b5f-44f5-9fb1-5db38fb1024c",
   "metadata": {},
   "outputs": [],
   "source": [
    "import ImageD11.transform"
   ]
  },
  {
   "cell_type": "code",
   "execution_count": 10,
   "id": "53a8e77d-d8e4-47bf-b3a9-1a63da0721b5",
   "metadata": {},
   "outputs": [
    {
     "data": {
      "text/plain": [
       "array([[ 9.99205060e-01, -1.99867662e-02, -3.44931565e-02],\n",
       "       [ 1.99562335e-02,  9.99800099e-01, -1.22926776e-03],\n",
       "       [ 3.45108303e-02,  5.39937080e-04,  9.99404178e-01]])"
      ]
     },
     "execution_count": 10,
     "metadata": {},
     "output_type": "execute_result"
    }
   ],
   "source": [
    "ImageD11.transform.detector_rotation_matrix(pars.get('tilt_x'), pars.get('tilt_y'), pars.get('tilt_z'))"
   ]
  },
  {
   "cell_type": "code",
   "execution_count": 11,
   "id": "bf20a0bb-0443-4072-bebf-eae5329f0fd4",
   "metadata": {},
   "outputs": [],
   "source": [
    "@jax.jit\n",
    "def detector_rotation_matrix(tilt_x, tilt_y, tilt_z):\n",
    "    r1 = jnp.array([[jnp.cos(tilt_z), -jnp.sin(tilt_z), 0],  # note this is r.h.\n",
    "                   [jnp.sin(tilt_z), jnp.cos(tilt_z), 0],\n",
    "                   [0,    0, 1]], float)\n",
    "    r2 = jnp.array([[jnp.cos(tilt_y), 0, jnp.sin(tilt_y)],\n",
    "                   [0, 1,   0],\n",
    "                   [-jnp.sin(tilt_y), 0, jnp.cos(tilt_y)]], float)\n",
    "    r3 = jnp.array([[1,          0,       0],\n",
    "                   [0,  jnp.cos(tilt_x), -jnp.sin(tilt_x)],\n",
    "                   [0,  jnp.sin(tilt_x), jnp.cos(tilt_x)]], float)\n",
    "    r2r1 = jnp.dot(jnp.dot(r3, r2), r1)\n",
    "    return r2r1"
   ]
  },
  {
   "cell_type": "code",
   "execution_count": 12,
   "id": "c024d88f-9dad-4c1a-a7f7-130ee2bc73d2",
   "metadata": {},
   "outputs": [],
   "source": [
    "rmat = detector_rotation_matrix(pars.get('tilt_x'), pars.get('tilt_y'), pars.get('tilt_z'))"
   ]
  },
  {
   "cell_type": "code",
   "execution_count": 13,
   "id": "7c40efc3-eb19-4b82-9c8a-a583b7e11eeb",
   "metadata": {},
   "outputs": [
    {
     "data": {
      "text/plain": [
       "72"
      ]
     },
     "execution_count": 13,
     "metadata": {},
     "output_type": "execute_result"
    }
   ],
   "source": [
    "rmat.nbytes"
   ]
  },
  {
   "cell_type": "code",
   "execution_count": 14,
   "id": "a024b6df-7247-468f-947a-2a93701a416e",
   "metadata": {},
   "outputs": [],
   "source": [
    "def compute_k_vector(tth, eta, wvln):\n",
    "    tth = jnp.radians(tth)\n",
    "    eta = jnp.radians(eta)\n",
    "    c = jnp.cos(tth / 2)  # cos theta\n",
    "    s = jnp.sin(tth / 2)  # sin theta\n",
    "    ds = 2 * s / wvln\n",
    "\n",
    "    k1 =  -ds * s  # this is negative x\n",
    "    k2 =  -ds * c * jnp.sin(eta)  # CHANGED eta to HFP convention 4-9-2007\n",
    "    k3 = ds * c * jnp.cos(eta)\n",
    "\n",
    "    return jnp.array([k1, k2, k3])"
   ]
  },
  {
   "cell_type": "code",
   "execution_count": 15,
   "id": "67fbd700-d71e-4bab-ae9c-2cd2957d2be6",
   "metadata": {},
   "outputs": [],
   "source": [
    "compute_k_vectors = jax.jit(jax.vmap(compute_k_vector, in_axes=[0, 0, None]))"
   ]
  },
  {
   "cell_type": "code",
   "execution_count": 29,
   "id": "d48c5bdf-8527-41e4-a780-b7039a2a233a",
   "metadata": {},
   "outputs": [],
   "source": [
    "k_jax = compute_k_vectors(cf.tth, cf.eta, cf.parameters.get('wavelength'))"
   ]
  },
  {
   "cell_type": "code",
   "execution_count": 17,
   "id": "16a4c7c8-c1ca-4c21-8f04-173fb9549512",
   "metadata": {},
   "outputs": [
    {
     "data": {
      "text/plain": [
       "True"
      ]
     },
     "execution_count": 17,
     "metadata": {},
     "output_type": "execute_result"
    }
   ],
   "source": [
    "np.allclose(k_jax, ImageD11.transform.compute_k_vectors(cf.tth, cf.eta, cf.parameters.get('wavelength')).T)"
   ]
  },
  {
   "cell_type": "code",
   "execution_count": 26,
   "id": "0c7abc94-b429-42f8-bc7c-389ec3110c47",
   "metadata": {},
   "outputs": [],
   "source": [
    "def compute_g_from_k_matr(k, omega, wedge, chi):\n",
    "    rom = jnp.radians(omega)\n",
    "    som = jnp.sin(rom)\n",
    "    com = jnp.cos(rom)\n",
    "    \n",
    "    rwed = jnp.radians(wedge)\n",
    "    swed = jnp.sin(rwed)\n",
    "    cwed = jnp.cos(rwed)\n",
    "\n",
    "    rchi = jnp.radians(chi)\n",
    "    schi = jnp.sin(rchi)\n",
    "    cchi = jnp.cos(rchi)\n",
    "\n",
    "    R = jnp.array([[ com, som, 0],\n",
    "                  [ -som, com, 0],\n",
    "                  [0, 0, 1]])\n",
    "\n",
    "    W = jnp.array([[ cwed, 0, swed],\n",
    "                  [    0, 1,    0],\n",
    "                  [-swed, 0, cwed]])\n",
    "\n",
    "    C = jnp.array([[1,     0,    0],\n",
    "                  [0,  cchi, schi],\n",
    "                  [0, -schi, cchi]])\n",
    "\n",
    "    g = R @ C @ W @ k\n",
    "\n",
    "    return g"
   ]
  },
  {
   "cell_type": "code",
   "execution_count": 27,
   "id": "4b568341-f549-4689-8ec2-d701bc5890f1",
   "metadata": {},
   "outputs": [],
   "source": [
    "compute_g_from_k_all = jax.jit(jax.vmap(compute_g_from_k_matr, in_axes=[0, 0, None, None]))"
   ]
  },
  {
   "cell_type": "code",
   "execution_count": 30,
   "id": "cde0167f-31c5-4218-9797-a105a215e9d9",
   "metadata": {},
   "outputs": [
    {
     "data": {
      "text/plain": [
       "Array([ 0.07132756,  0.46433902, -0.81642077], dtype=float64)"
      ]
     },
     "execution_count": 30,
     "metadata": {},
     "output_type": "execute_result"
    }
   ],
   "source": [
    "compute_g_from_k_all(k_jax, cf.omega, cf.parameters.get('wedge'), cf.parameters.get('chi'))[0]"
   ]
  },
  {
   "cell_type": "code",
   "execution_count": 31,
   "id": "cc1d6a08-6539-4770-aaed-c2000f6ccda8",
   "metadata": {},
   "outputs": [
    {
     "data": {
      "text/plain": [
       "(0.07132756258253843, 0.46433902223834955, -0.8164207661221281)"
      ]
     },
     "execution_count": 31,
     "metadata": {},
     "output_type": "execute_result"
    }
   ],
   "source": [
    "cf.gx[0], cf.gy[0], cf.gz[0]"
   ]
  },
  {
   "cell_type": "code",
   "execution_count": null,
   "id": "7955a386-e39b-4fa9-a164-e18ed6b8e609",
   "metadata": {},
   "outputs": [],
   "source": [
    "kt = k.T"
   ]
  },
  {
   "cell_type": "code",
   "execution_count": null,
   "id": "a27de0a0-00c1-4321-a8a1-c65392dc5c88",
   "metadata": {},
   "outputs": [],
   "source": [
    "%%time\n",
    "\n",
    "g = ImageD11.transform.compute_g_from_k(kt, cf.omega, cf.parameters.get('wedge'), cf.parameters.get('chi'))"
   ]
  },
  {
   "cell_type": "code",
   "execution_count": null,
   "id": "cf92cfe6-60c1-4425-9f25-03892f60f347",
   "metadata": {},
   "outputs": [],
   "source": [
    "%%time\n",
    "\n",
    "g2 = compute_g_from_k_all(k, cf.omega, cf.parameters.get('wedge'), cf.parameters.get('chi'))"
   ]
  },
  {
   "cell_type": "code",
   "execution_count": null,
   "id": "2d024cb0-f0c6-429d-87d3-70286a7be3cf",
   "metadata": {},
   "outputs": [],
   "source": []
  }
 ],
 "metadata": {
  "kernelspec": {
   "display_name": "Python 3 (main)",
   "language": "python",
   "name": "python3"
  },
  "language_info": {
   "codemirror_mode": {
    "name": "ipython",
    "version": 3
   },
   "file_extension": ".py",
   "mimetype": "text/x-python",
   "name": "python",
   "nbconvert_exporter": "python",
   "pygments_lexer": "ipython3",
   "version": "3.12.9"
  }
 },
 "nbformat": 4,
 "nbformat_minor": 5
}
