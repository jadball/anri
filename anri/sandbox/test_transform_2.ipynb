{
 "cells": [
  {
   "cell_type": "code",
   "execution_count": 1,
   "id": "b54c0df0-9731-4b5c-b5b3-a0805e63cc40",
   "metadata": {},
   "outputs": [],
   "source": [
    "import os\n",
    "os.environ[\"XLA_PYTHON_CLIENT_PREALLOCATE\"] = \"0\"\n",
    "\n",
    "import numpy as np\n",
    "import jax\n",
    "import jax.numpy as jnp\n",
    "jax.config.update(\"jax_enable_x64\", True)\n",
    "jax.config.update(\"jax_platforms\", 'cpu')\n",
    "\n",
    "\n",
    "from ImageD11.parameters import AnalysisSchema\n",
    "from ImageD11.columnfile import columnfile"
   ]
  },
  {
   "cell_type": "code",
   "execution_count": 2,
   "id": "91a00602-c061-44af-b028-972c4e8efc05",
   "metadata": {},
   "outputs": [],
   "source": [
    "pars = AnalysisSchema.from_default().geometry_pars_obj"
   ]
  },
  {
   "cell_type": "code",
   "execution_count": 3,
   "id": "7a1c556d-45b0-466a-9fa3-95ab6f1a0974",
   "metadata": {},
   "outputs": [],
   "source": [
    "pars.set('tilt_x', 0.00123)\n",
    "pars.set('tilt_y', -0.0345)\n",
    "pars.set('tilt_z', 0.02)\n",
    "pars.set('chi', 1)\n",
    "pars.set('wedge', -3)"
   ]
  },
  {
   "cell_type": "code",
   "execution_count": 4,
   "id": "c6623917-b6ea-4cb6-836b-b298d84f0650",
   "metadata": {},
   "outputs": [],
   "source": [
    "nrows = 100_000\n",
    "\n",
    "fc = np.random.random(nrows) * 2048\n",
    "sc = np.random.random(nrows) * 2048\n",
    "om = np.random.random(nrows) * 360"
   ]
  },
  {
   "cell_type": "code",
   "execution_count": 5,
   "id": "5fdf6b4e-dd56-4825-9928-afb5bbc5b334",
   "metadata": {},
   "outputs": [],
   "source": [
    "cf = columnfile(new=True)\n",
    "cf.nrows = nrows\n",
    "\n",
    "cf.addcolumn(fc, 'fc')\n",
    "cf.addcolumn(sc, 'sc')\n",
    "cf.addcolumn(om, 'omega')"
   ]
  },
  {
   "cell_type": "code",
   "execution_count": 6,
   "id": "d3d8167d-b6b8-42bf-a3a4-2a72d3e48d13",
   "metadata": {},
   "outputs": [],
   "source": [
    "cf.parameters = pars"
   ]
  },
  {
   "cell_type": "code",
   "execution_count": 7,
   "id": "2bea32aa-6013-4c07-9896-33edb413c128",
   "metadata": {},
   "outputs": [],
   "source": [
    "cf.updateGeometry()"
   ]
  },
  {
   "cell_type": "code",
   "execution_count": 8,
   "id": "18cc8aec-7665-4b49-82a1-221a522719d3",
   "metadata": {},
   "outputs": [
    {
     "data": {
      "text/plain": [
       "['fc', 'sc', 'omega', 'xl', 'yl', 'zl', 'tth', 'eta', 'ds', 'gx', 'gy', 'gz']"
      ]
     },
     "execution_count": 8,
     "metadata": {},
     "output_type": "execute_result"
    }
   ],
   "source": [
    "cf.titles"
   ]
  },
  {
   "cell_type": "code",
   "execution_count": 9,
   "id": "df76ef09-2e53-4b90-b8fe-607307fafd24",
   "metadata": {},
   "outputs": [],
   "source": [
    "gvecs = np.column_stack([cf.gx, cf.gy, cf.gz])"
   ]
  },
  {
   "cell_type": "code",
   "execution_count": 10,
   "id": "58142fad-7b5f-44f5-9fb1-5db38fb1024c",
   "metadata": {},
   "outputs": [],
   "source": [
    "import ImageD11.transform, ImageD11.gv_general"
   ]
  },
  {
   "cell_type": "code",
   "execution_count": 11,
   "id": "dd84233e-ba05-4e6b-baac-af2747345372",
   "metadata": {},
   "outputs": [],
   "source": [
    "import transform as mytrans"
   ]
  },
  {
   "cell_type": "code",
   "execution_count": 68,
   "id": "36cde0e7-ed8e-4a45-90dd-5fc9c5c12ebe",
   "metadata": {},
   "outputs": [
    {
     "data": {
      "text/plain": [
       "<module 'transform' from '/home/esrf/james1997a/Code/Anri/anri/sandbox/transform.py'>"
      ]
     },
     "execution_count": 68,
     "metadata": {},
     "output_type": "execute_result"
    }
   ],
   "source": [
    "import importlib\n",
    "importlib.reload(mytrans)"
   ]
  },
  {
   "cell_type": "code",
   "execution_count": 13,
   "id": "8ea2f694-897e-4008-a040-2dafb4f80d0e",
   "metadata": {},
   "outputs": [
    {
     "name": "stdout",
     "output_type": "stream",
     "text": [
      "CPU times: user 590 ms, sys: 30.5 ms, total: 620 ms\n",
      "Wall time: 7.62 ms\n"
     ]
    }
   ],
   "source": [
    "%%time\n",
    "\n",
    "xyz_id11 = ImageD11.transform.compute_xyz_lab((cf.sc, cf.fc), **pars.parameters)"
   ]
  },
  {
   "cell_type": "code",
   "execution_count": 14,
   "id": "83755d97-d44b-4df7-8c3b-6e426a6dc471",
   "metadata": {},
   "outputs": [
    {
     "name": "stdout",
     "output_type": "stream",
     "text": [
      "CPU times: user 12.1 s, sys: 319 ms, total: 12.4 s\n",
      "Wall time: 227 ms\n"
     ]
    }
   ],
   "source": [
    "%%time\n",
    "\n",
    "xyz_me = mytrans.xyz_lab_from_sc_fc(cf.sc, cf.fc,\n",
    "                                              pars.get('y_center'), pars.get('y_size'), pars.get('tilt_y'),\n",
    "                                              pars.get('z_center'), pars.get('z_size'), pars.get('tilt_z'),\n",
    "                                              pars.get('tilt_x'),\n",
    "                                              pars.get('distance'),\n",
    "                                              pars.get('o11'), pars.get('o12'), pars.get('o21'),pars.get('o22')\n",
    "                                             )"
   ]
  },
  {
   "cell_type": "code",
   "execution_count": 15,
   "id": "8dff1f84-3f7f-441a-82ba-b70f7c23da0d",
   "metadata": {},
   "outputs": [],
   "source": [
    "assert np.allclose(xyz_id11, xyz_me.T)"
   ]
  },
  {
   "cell_type": "code",
   "execution_count": 16,
   "id": "362b82c0-6e0d-4ca5-a3e0-b40d3fef65a3",
   "metadata": {},
   "outputs": [],
   "source": [
    "t_id11 = ImageD11.transform.compute_grain_origins(cf.omega, pars.get('wedge'), pars.get('chi'), cf.xl, cf.yl, cf.zl)"
   ]
  },
  {
   "cell_type": "code",
   "execution_count": 17,
   "id": "b56444f2-b0aa-49a0-8c60-d01825dcb2ef",
   "metadata": {},
   "outputs": [],
   "source": [
    "t_me = mytrans.lab_to_sample(np.column_stack((cf.xl, cf.yl, cf.zl)), cf.omega, pars.get('wedge'), pars.get('chi'))"
   ]
  },
  {
   "cell_type": "code",
   "execution_count": 18,
   "id": "3e229304-4a70-4d40-9fa5-794488a3471c",
   "metadata": {},
   "outputs": [
    {
     "data": {
      "text/plain": [
       "(3, 100000)"
      ]
     },
     "execution_count": 18,
     "metadata": {},
     "output_type": "execute_result"
    }
   ],
   "source": [
    "t_id11.shape"
   ]
  },
  {
   "cell_type": "code",
   "execution_count": 19,
   "id": "58d27e7b-1fce-47e1-a8fd-4e0711a66f0d",
   "metadata": {},
   "outputs": [
    {
     "data": {
      "text/plain": [
       "(100000, 3)"
      ]
     },
     "execution_count": 19,
     "metadata": {},
     "output_type": "execute_result"
    }
   ],
   "source": [
    "t_me.shape"
   ]
  },
  {
   "cell_type": "code",
   "execution_count": 20,
   "id": "7047b54f-bd0a-49fc-8389-9d835bd4792f",
   "metadata": {},
   "outputs": [],
   "source": [
    "assert np.allclose(t_id11, t_me.T)"
   ]
  },
  {
   "cell_type": "code",
   "execution_count": 21,
   "id": "6d788fb2-6957-473f-b360-1d48943f32db",
   "metadata": {},
   "outputs": [
    {
     "name": "stdout",
     "output_type": "stream",
     "text": [
      "CPU times: user 547 ms, sys: 31.3 ms, total: 578 ms\n",
      "Wall time: 34.3 ms\n"
     ]
    }
   ],
   "source": [
    "%%time\n",
    "\n",
    "tth_id11, (eta1_id11, eta2_id11), (omega1_id11, omega2_id11) = ImageD11.transform.uncompute_g_vectors(gvecs.T, pars.get('wavelength'), pars.get('wedge'), pars.get('chi'))"
   ]
  },
  {
   "cell_type": "code",
   "execution_count": 22,
   "id": "d715c1b5-ba44-4894-864c-e7754e0e5b26",
   "metadata": {},
   "outputs": [
    {
     "data": {
      "text/plain": [
       "array([20.90966028, 12.90344738, 20.04392288, ..., 12.16225556,\n",
       "       14.86039596, 14.66895017])"
      ]
     },
     "execution_count": 22,
     "metadata": {},
     "output_type": "execute_result"
    }
   ],
   "source": [
    "tth_id11"
   ]
  },
  {
   "cell_type": "code",
   "execution_count": 23,
   "id": "3991a92a-0655-4d8b-a6be-4cdb06908d9c",
   "metadata": {},
   "outputs": [
    {
     "name": "stdout",
     "output_type": "stream",
     "text": [
      "CPU times: user 9.07 s, sys: 172 ms, total: 9.25 s\n",
      "Wall time: 312 ms\n"
     ]
    }
   ],
   "source": [
    "%%time\n",
    "\n",
    "tth_me, (eta1_me, eta2_me), (omega1_me, omega2_me) = mytrans.tth_eta_omega_from_g(gvecs, pars.get('wavelength'), pars.get('wedge'), pars.get('chi'))"
   ]
  },
  {
   "cell_type": "code",
   "execution_count": 24,
   "id": "ad34267c-fcda-4728-b795-82f8371ff0eb",
   "metadata": {},
   "outputs": [
    {
     "data": {
      "text/plain": [
       "Array([20.90966028, 12.90344738, 20.04392288, ..., 12.16225556,\n",
       "       14.86039596, 14.66895017], dtype=float64)"
      ]
     },
     "execution_count": 24,
     "metadata": {},
     "output_type": "execute_result"
    }
   ],
   "source": [
    "tth_me"
   ]
  },
  {
   "cell_type": "code",
   "execution_count": 25,
   "id": "726d6278-df2a-4b94-a78a-941a20862f07",
   "metadata": {},
   "outputs": [],
   "source": [
    "assert np.allclose(tth_id11, tth_me)\n",
    "assert np.allclose(eta1_id11, eta1_me)\n",
    "assert np.allclose(eta2_id11, eta2_me)\n",
    "assert np.allclose(omega1_id11, omega1_me)\n",
    "assert np.allclose(omega2_id11, omega2_me)"
   ]
  },
  {
   "cell_type": "code",
   "execution_count": 26,
   "id": "a30f8979-3f49-48b2-92d8-8da203ceec56",
   "metadata": {},
   "outputs": [
    {
     "data": {
      "text/plain": [
       "Array([172.80252499,  84.58086535,  20.94851858, ...,  10.31620241,\n",
       "        30.96771396,  75.34135546], dtype=float64)"
      ]
     },
     "execution_count": 26,
     "metadata": {},
     "output_type": "execute_result"
    }
   ],
   "source": [
    "eta1_me"
   ]
  },
  {
   "cell_type": "code",
   "execution_count": 27,
   "id": "9c8a85b2-204b-4cb8-95eb-6bc2250235ab",
   "metadata": {},
   "outputs": [
    {
     "data": {
      "text/plain": [
       "array([172.80252499,  84.58086535,  20.94851858, ...,  10.31620241,\n",
       "        30.96771396,  75.34135546])"
      ]
     },
     "execution_count": 27,
     "metadata": {},
     "output_type": "execute_result"
    }
   ],
   "source": [
    "eta1_id11"
   ]
  },
  {
   "cell_type": "code",
   "execution_count": 28,
   "id": "2d024cb0-f0c6-429d-87d3-70286a7be3cf",
   "metadata": {},
   "outputs": [],
   "source": [
    "# test k vector computation\n",
    "k_id11 = ImageD11.transform.compute_k_vectors(cf.tth, cf.eta, pars.get('wavelength'))"
   ]
  },
  {
   "cell_type": "code",
   "execution_count": 29,
   "id": "ad00d31c-8f11-4935-9b1d-c1927b1f7ff1",
   "metadata": {},
   "outputs": [
    {
     "data": {
      "text/plain": [
       "array([[-0.23142142, -0.08873811, -0.21284662, ..., -0.07887364,\n",
       "        -0.11753301, -0.11454063],\n",
       "       [-0.15713252, -0.78121506,  0.39104071, ..., -0.13258168,\n",
       "        -0.46373486,  0.85251994],\n",
       "       [-1.24427294,  0.0741098 ,  1.13916586, ...,  0.72837895,\n",
       "         0.77277045,  0.25514215]])"
      ]
     },
     "execution_count": 29,
     "metadata": {},
     "output_type": "execute_result"
    }
   ],
   "source": [
    "k_id11"
   ]
  },
  {
   "cell_type": "code",
   "execution_count": 30,
   "id": "62efa8ed-0e9c-4200-b2e3-54aaa027e450",
   "metadata": {},
   "outputs": [],
   "source": [
    "k_me = mytrans.k_from_tth_eta(cf.tth, cf.eta, pars.get('wavelength'))"
   ]
  },
  {
   "cell_type": "code",
   "execution_count": 31,
   "id": "304beddf-f153-4efe-82c0-c414e6b0f66b",
   "metadata": {},
   "outputs": [
    {
     "data": {
      "text/plain": [
       "Array([[-0.23142142, -0.15713252, -1.24427294],\n",
       "       [-0.08873811, -0.78121506,  0.0741098 ],\n",
       "       [-0.21284662,  0.39104071,  1.13916586],\n",
       "       ...,\n",
       "       [-0.07887364, -0.13258168,  0.72837895],\n",
       "       [-0.11753301, -0.46373486,  0.77277045],\n",
       "       [-0.11454063,  0.85251994,  0.25514215]], dtype=float64)"
      ]
     },
     "execution_count": 31,
     "metadata": {},
     "output_type": "execute_result"
    }
   ],
   "source": [
    "k_me"
   ]
  },
  {
   "cell_type": "code",
   "execution_count": 32,
   "id": "d8acdc91-e65a-4297-a84a-d0121e140331",
   "metadata": {},
   "outputs": [
    {
     "data": {
      "text/plain": [
       "(3, 100000)"
      ]
     },
     "execution_count": 32,
     "metadata": {},
     "output_type": "execute_result"
    }
   ],
   "source": [
    "k_id11.shape"
   ]
  },
  {
   "cell_type": "code",
   "execution_count": 33,
   "id": "ec9719b8-8ee4-497c-95f5-42c5df4150df",
   "metadata": {},
   "outputs": [
    {
     "data": {
      "text/plain": [
       "(100000, 3)"
      ]
     },
     "execution_count": 33,
     "metadata": {},
     "output_type": "execute_result"
    }
   ],
   "source": [
    "k_me.shape"
   ]
  },
  {
   "cell_type": "code",
   "execution_count": 34,
   "id": "2f1a0d52-6fac-428b-8f57-ab3acab1fe56",
   "metadata": {},
   "outputs": [],
   "source": [
    "assert np.allclose(k_id11.T, k_me)"
   ]
  },
  {
   "cell_type": "code",
   "execution_count": 74,
   "id": "4a97acf7-e5b3-48a3-b2de-7fff584b19b1",
   "metadata": {},
   "outputs": [],
   "source": [
    "# test computation of angles for g-vectors\n",
    "\n",
    "W =  mytrans.wmat(pars.get('wedge'))\n",
    "C =  mytrans.chimat(pars.get('chi'))\n",
    "pre = (C @ W).T\n",
    "\n",
    "k_id11 = ImageD11.gv_general.g_to_k(gvecs.T, pars.get('wavelength'), axis=[0,0,1], pre=pre, post=None)"
   ]
  },
  {
   "cell_type": "code",
   "execution_count": 79,
   "id": "47f4c1f2-4321-4f4b-abaa-1da4b1d21faa",
   "metadata": {},
   "outputs": [
    {
     "data": {
      "text/plain": [
       "(array([ -89.02955417,   90.94665631,  112.14395828, ...,  -43.60232194,\n",
       "        -170.52170011,   17.49907343]),\n",
       " array([  90.97044583,  -75.99273904,  -13.4744276 , ..., -164.32896333,\n",
       "          36.44759436, -147.13237627]),\n",
       " array([False,  True,  True, ...,  True,  True,  True]))"
      ]
     },
     "execution_count": 79,
     "metadata": {},
     "output_type": "execute_result"
    }
   ],
   "source": [
    "k_id11"
   ]
  },
  {
   "cell_type": "code",
   "execution_count": 80,
   "id": "9e45bc75-e389-4f23-87cf-670c2c320225",
   "metadata": {},
   "outputs": [],
   "source": [
    "k_me = mytrans.omega_solns_for_g(gvecs, pars.get('wavelength'), np.array([0,0,1]), pre, jnp.eye(3))"
   ]
  },
  {
   "cell_type": "code",
   "execution_count": 81,
   "id": "a35281f1-6296-4c09-8f2f-e9648b2baf2d",
   "metadata": {},
   "outputs": [
    {
     "data": {
      "text/plain": [
       "(Array([ -89.02955417,   90.94665631,  112.14395828, ...,  -43.60232194,\n",
       "        -170.52170011,   17.49907343], dtype=float64),\n",
       " Array([  90.97044583,  -75.99273904,  -13.4744276 , ..., -164.32896333,\n",
       "          36.44759436, -147.13237627], dtype=float64),\n",
       " Array([False,  True,  True, ...,  True,  True,  True], dtype=bool))"
      ]
     },
     "execution_count": 81,
     "metadata": {},
     "output_type": "execute_result"
    }
   ],
   "source": [
    "k_me"
   ]
  },
  {
   "cell_type": "code",
   "execution_count": 83,
   "id": "ddb09e71-de64-42b1-9906-e7e16b1732ef",
   "metadata": {},
   "outputs": [],
   "source": [
    "assert np.allclose(k_id11[0], k_me[0])\n",
    "assert np.allclose(k_id11[1], k_me[1])\n",
    "assert np.allclose(k_id11[2], k_me[2])"
   ]
  },
  {
   "cell_type": "code",
   "execution_count": 35,
   "id": "de807f8b-a097-495a-9275-7fb344dbee7c",
   "metadata": {},
   "outputs": [],
   "source": [
    "# now use k vectors to test g_from_k"
   ]
  },
  {
   "cell_type": "code",
   "execution_count": 36,
   "id": "52b8c2d7-8e0e-44a2-a25d-ac405b09b6bd",
   "metadata": {},
   "outputs": [],
   "source": [
    "g_id11 = ImageD11.transform.compute_g_from_k(k_id11, cf.omega, pars.get('wedge'), pars.get('chi'))"
   ]
  },
  {
   "cell_type": "code",
   "execution_count": 37,
   "id": "cc5747e2-7f08-460a-bcba-cf7069ecb836",
   "metadata": {},
   "outputs": [
    {
     "data": {
      "text/plain": [
       "array([[ 2.43390149e-01, -7.78945867e-01, -3.62299814e-01, ...,\n",
       "         3.80168168e-04,  1.56790470e-01, -3.77969006e-01],\n",
       "       [-1.88415148e-02, -1.00100379e-01, -3.33831450e-01, ...,\n",
       "         1.67474005e-01, -4.50661337e-01,  7.79388356e-01],\n",
       "       [-1.25174593e+00,  8.29875609e-02,  1.11946898e+00, ...,\n",
       "         7.25456516e-01,  7.73536885e-01,  2.33881473e-01]])"
      ]
     },
     "execution_count": 37,
     "metadata": {},
     "output_type": "execute_result"
    }
   ],
   "source": [
    "g_id11"
   ]
  },
  {
   "cell_type": "code",
   "execution_count": 39,
   "id": "323341f0-0ded-46aa-aee7-d195e3c4b99b",
   "metadata": {},
   "outputs": [],
   "source": [
    "g_me = mytrans.g_from_k_omega(k_me, cf.omega, pars.get('wedge'), pars.get('chi'))"
   ]
  },
  {
   "cell_type": "code",
   "execution_count": 40,
   "id": "e060600e-5714-433e-9df9-961aed62cb91",
   "metadata": {},
   "outputs": [
    {
     "data": {
      "text/plain": [
       "Array([[ 2.43390149e-01, -1.88415148e-02, -1.25174593e+00],\n",
       "       [-7.78945867e-01, -1.00100379e-01,  8.29875609e-02],\n",
       "       [-3.62299814e-01, -3.33831450e-01,  1.11946898e+00],\n",
       "       ...,\n",
       "       [ 3.80168168e-04,  1.67474005e-01,  7.25456516e-01],\n",
       "       [ 1.56790470e-01, -4.50661337e-01,  7.73536885e-01],\n",
       "       [-3.77969006e-01,  7.79388356e-01,  2.33881473e-01]],      dtype=float64)"
      ]
     },
     "execution_count": 40,
     "metadata": {},
     "output_type": "execute_result"
    }
   ],
   "source": [
    "g_me"
   ]
  },
  {
   "cell_type": "code",
   "execution_count": 41,
   "id": "356a8ee8-e57c-4017-b2eb-43b371559be4",
   "metadata": {},
   "outputs": [],
   "source": [
    "assert np.allclose(g_id11.T, g_me)"
   ]
  },
  {
   "cell_type": "code",
   "execution_count": 59,
   "id": "4a5ce489-4a9a-4c23-83e1-b0e60fbe7e2a",
   "metadata": {},
   "outputs": [],
   "source": [
    "g_id11_trans = ImageD11.transform.compute_g_from_k(k_id11, cf.omega, pars.get('wedge'), pars.get('chi'))"
   ]
  },
  {
   "cell_type": "code",
   "execution_count": 60,
   "id": "637ce6e9-1699-4a79-a114-0ba682b97936",
   "metadata": {},
   "outputs": [
    {
     "data": {
      "text/plain": [
       "array([[ 2.43390149e-01, -7.78945867e-01, -3.62299814e-01, ...,\n",
       "         3.80168168e-04,  1.56790470e-01, -3.77969006e-01],\n",
       "       [-1.88415148e-02, -1.00100379e-01, -3.33831450e-01, ...,\n",
       "         1.67474005e-01, -4.50661337e-01,  7.79388356e-01],\n",
       "       [-1.25174593e+00,  8.29875609e-02,  1.11946898e+00, ...,\n",
       "         7.25456516e-01,  7.73536885e-01,  2.33881473e-01]])"
      ]
     },
     "execution_count": 60,
     "metadata": {},
     "output_type": "execute_result"
    }
   ],
   "source": [
    "g_id11_trans"
   ]
  },
  {
   "cell_type": "code",
   "execution_count": 61,
   "id": "591c79a3-37c9-4d2f-8901-96f98271cc96",
   "metadata": {},
   "outputs": [],
   "source": [
    "# C @ W -Z works\n",
    "\n",
    "W =  mytrans.wmat(pars.get('wedge'))\n",
    "C =  mytrans.chimat(pars.get('chi'))\n",
    "\n",
    "post = C @ W\n",
    "\n",
    "g_id11_gvgeneral = ImageD11.gv_general.k_to_g(k_id11, cf.omega, axis=np.array([0., 0., -1]), pre=None, post=post)"
   ]
  },
  {
   "cell_type": "code",
   "execution_count": 62,
   "id": "819ba094-8d6e-4fc4-88b7-8b1d3fa5468a",
   "metadata": {},
   "outputs": [
    {
     "data": {
      "text/plain": [
       "array([[ 2.43390149e-01, -7.78945867e-01, -3.62299814e-01, ...,\n",
       "         3.80168168e-04,  1.56790470e-01, -3.77969006e-01],\n",
       "       [-1.88415148e-02, -1.00100379e-01, -3.33831450e-01, ...,\n",
       "         1.67474005e-01, -4.50661337e-01,  7.79388356e-01],\n",
       "       [-1.25174593e+00,  8.29875609e-02,  1.11946898e+00, ...,\n",
       "         7.25456516e-01,  7.73536885e-01,  2.33881473e-01]])"
      ]
     },
     "execution_count": 62,
     "metadata": {},
     "output_type": "execute_result"
    }
   ],
   "source": [
    "g_id11_gvgeneral"
   ]
  },
  {
   "cell_type": "code",
   "execution_count": 63,
   "id": "83c23d0c-5234-4459-8861-a81517b8857d",
   "metadata": {},
   "outputs": [],
   "source": [
    "assert np.allclose(g_id11_trans, g_id11_gvgeneral)"
   ]
  },
  {
   "cell_type": "code",
   "execution_count": 47,
   "id": "df0ef7ef-140b-4885-b769-13e96bdd43fb",
   "metadata": {},
   "outputs": [],
   "source": [
    "g_id11 = ImageD11.transform.compute_g_vectors(cf.tth, cf.eta, cf.omega, pars.get('wavelength'), pars.get('wedge'), pars.get('chi'))"
   ]
  },
  {
   "cell_type": "code",
   "execution_count": 48,
   "id": "d96f15f3-f7ac-4201-83ac-d6b00c511c70",
   "metadata": {},
   "outputs": [
    {
     "data": {
      "text/plain": [
       "array([[ 2.43390149e-01, -7.78945867e-01, -3.62299814e-01, ...,\n",
       "         3.80168168e-04,  1.56790470e-01, -3.77969006e-01],\n",
       "       [-1.88415148e-02, -1.00100379e-01, -3.33831450e-01, ...,\n",
       "         1.67474005e-01, -4.50661337e-01,  7.79388356e-01],\n",
       "       [-1.25174593e+00,  8.29875609e-02,  1.11946898e+00, ...,\n",
       "         7.25456516e-01,  7.73536885e-01,  2.33881473e-01]])"
      ]
     },
     "execution_count": 48,
     "metadata": {},
     "output_type": "execute_result"
    }
   ],
   "source": [
    "g_id11"
   ]
  },
  {
   "cell_type": "code",
   "execution_count": 49,
   "id": "f0a5131a-962d-4caa-a10c-d50caaf71107",
   "metadata": {},
   "outputs": [],
   "source": [
    "assert np.allclose(gvecs, g_id11.T)"
   ]
  },
  {
   "cell_type": "code",
   "execution_count": 53,
   "id": "d79690d6-2062-4dd8-b232-a0b505524ce9",
   "metadata": {},
   "outputs": [],
   "source": [
    "g_me = mytrans.g_from_tth_eta_omega(cf.tth, cf.eta, cf.omega, pars.get('wavelength'), pars.get('wedge'), pars.get('chi'))"
   ]
  },
  {
   "cell_type": "code",
   "execution_count": 54,
   "id": "41f8b747-0628-4000-80fa-ab0db00a2fc1",
   "metadata": {},
   "outputs": [
    {
     "data": {
      "text/plain": [
       "Array([[ 2.43390149e-01, -1.88415148e-02, -1.25174593e+00],\n",
       "       [-7.78945867e-01, -1.00100379e-01,  8.29875609e-02],\n",
       "       [-3.62299814e-01, -3.33831450e-01,  1.11946898e+00],\n",
       "       ...,\n",
       "       [ 3.80168168e-04,  1.67474005e-01,  7.25456516e-01],\n",
       "       [ 1.56790470e-01, -4.50661337e-01,  7.73536885e-01],\n",
       "       [-3.77969006e-01,  7.79388356e-01,  2.33881473e-01]],      dtype=float64)"
      ]
     },
     "execution_count": 54,
     "metadata": {},
     "output_type": "execute_result"
    }
   ],
   "source": [
    "g_me"
   ]
  },
  {
   "cell_type": "code",
   "execution_count": 55,
   "id": "e7ce5a80-e735-4c9e-aa4c-ea6ab993d79c",
   "metadata": {},
   "outputs": [],
   "source": [
    "assert np.allclose(gvecs, g_me)"
   ]
  },
  {
   "cell_type": "code",
   "execution_count": null,
   "id": "6891779f-89e4-44d9-a349-3c9dd6098dd4",
   "metadata": {},
   "outputs": [],
   "source": []
  },
  {
   "cell_type": "code",
   "execution_count": 56,
   "id": "25b7aac4-1411-41de-a236-28841a26335d",
   "metadata": {},
   "outputs": [],
   "source": [
    "assert np.allclose(gvecs, mytrans.sample_to_lab(mytrans.lab_to_sample(gvecs, cf.omega, pars.get('wedge'), pars.get('chi')), cf.omega, pars.get('wedge'), pars.get('chi')))"
   ]
  },
  {
   "cell_type": "code",
   "execution_count": 57,
   "id": "1f828429-b47a-4743-9164-0577e1ad89d7",
   "metadata": {},
   "outputs": [],
   "source": [
    "# so if we can go from g to k\n",
    "# why do we need this big scary function\n",
    "# it's for unknown omega"
   ]
  },
  {
   "cell_type": "code",
   "execution_count": null,
   "id": "5308c0ce-d230-4e5e-92a3-43d25d1be5cb",
   "metadata": {},
   "outputs": [],
   "source": []
  }
 ],
 "metadata": {
  "kernelspec": {
   "display_name": "Python 3 (main)",
   "language": "python",
   "name": "python3"
  },
  "language_info": {
   "codemirror_mode": {
    "name": "ipython",
    "version": 3
   },
   "file_extension": ".py",
   "mimetype": "text/x-python",
   "name": "python",
   "nbconvert_exporter": "python",
   "pygments_lexer": "ipython3",
   "version": "3.12.9"
  }
 },
 "nbformat": 4,
 "nbformat_minor": 5
}
