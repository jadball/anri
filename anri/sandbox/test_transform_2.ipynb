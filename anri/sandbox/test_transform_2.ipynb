{
 "cells": [
  {
   "cell_type": "code",
   "execution_count": 1,
   "id": "b54c0df0-9731-4b5c-b5b3-a0805e63cc40",
   "metadata": {},
   "outputs": [],
   "source": [
    "import os\n",
    "os.environ[\"XLA_PYTHON_CLIENT_PREALLOCATE\"] = \"0\"\n",
    "\n",
    "import numpy as np\n",
    "import jax\n",
    "import jax.numpy as jnp\n",
    "jax.config.update(\"jax_enable_x64\", True)\n",
    "jax.config.update(\"jax_platforms\", 'cpu')\n",
    "\n",
    "\n",
    "from ImageD11.parameters import AnalysisSchema\n",
    "from ImageD11.columnfile import columnfile"
   ]
  },
  {
   "cell_type": "code",
   "execution_count": 2,
   "id": "91a00602-c061-44af-b028-972c4e8efc05",
   "metadata": {},
   "outputs": [],
   "source": [
    "pars = AnalysisSchema.from_default().geometry_pars_obj"
   ]
  },
  {
   "cell_type": "code",
   "execution_count": 3,
   "id": "7a1c556d-45b0-466a-9fa3-95ab6f1a0974",
   "metadata": {},
   "outputs": [],
   "source": [
    "pars.set('tilt_x', 0.00123)\n",
    "pars.set('tilt_y', -0.0345)\n",
    "pars.set('tilt_z', 0.02)\n",
    "pars.set('chi', 1)\n",
    "pars.set('wedge', -3)\n",
    "pars.set('t_x', 1)\n",
    "pars.set('t_y', 2)\n",
    "pars.set('t_z', 3)"
   ]
  },
  {
   "cell_type": "code",
   "execution_count": 4,
   "id": "c6623917-b6ea-4cb6-836b-b298d84f0650",
   "metadata": {},
   "outputs": [],
   "source": [
    "nrows = 100_000\n",
    "\n",
    "fc = np.random.random(nrows) * 2048\n",
    "sc = np.random.random(nrows) * 2048\n",
    "om = np.random.random(nrows) * 360"
   ]
  },
  {
   "cell_type": "code",
   "execution_count": 5,
   "id": "5fdf6b4e-dd56-4825-9928-afb5bbc5b334",
   "metadata": {},
   "outputs": [],
   "source": [
    "cf = columnfile(new=True)\n",
    "cf.nrows = nrows\n",
    "\n",
    "cf.addcolumn(fc, 'fc')\n",
    "cf.addcolumn(sc, 'sc')\n",
    "cf.addcolumn(om, 'omega')"
   ]
  },
  {
   "cell_type": "code",
   "execution_count": 6,
   "id": "d3d8167d-b6b8-42bf-a3a4-2a72d3e48d13",
   "metadata": {},
   "outputs": [],
   "source": [
    "cf.parameters = pars"
   ]
  },
  {
   "cell_type": "code",
   "execution_count": 7,
   "id": "2bea32aa-6013-4c07-9896-33edb413c128",
   "metadata": {},
   "outputs": [],
   "source": [
    "cf.updateGeometry()"
   ]
  },
  {
   "cell_type": "code",
   "execution_count": 8,
   "id": "18cc8aec-7665-4b49-82a1-221a522719d3",
   "metadata": {},
   "outputs": [
    {
     "data": {
      "text/plain": [
       "['fc', 'sc', 'omega', 'xl', 'yl', 'zl', 'tth', 'eta', 'ds', 'gx', 'gy', 'gz']"
      ]
     },
     "execution_count": 8,
     "metadata": {},
     "output_type": "execute_result"
    }
   ],
   "source": [
    "cf.titles"
   ]
  },
  {
   "cell_type": "code",
   "execution_count": 9,
   "id": "df76ef09-2e53-4b90-b8fe-607307fafd24",
   "metadata": {},
   "outputs": [],
   "source": [
    "gvecs = np.column_stack([cf.gx, cf.gy, cf.gz])"
   ]
  },
  {
   "cell_type": "code",
   "execution_count": 10,
   "id": "58142fad-7b5f-44f5-9fb1-5db38fb1024c",
   "metadata": {},
   "outputs": [],
   "source": [
    "import ImageD11.transform, ImageD11.gv_general"
   ]
  },
  {
   "cell_type": "code",
   "execution_count": 11,
   "id": "dd84233e-ba05-4e6b-baac-af2747345372",
   "metadata": {},
   "outputs": [],
   "source": [
    "import transform as mytrans"
   ]
  },
  {
   "cell_type": "code",
   "execution_count": 12,
   "id": "36cde0e7-ed8e-4a45-90dd-5fc9c5c12ebe",
   "metadata": {},
   "outputs": [
    {
     "data": {
      "text/plain": [
       "<module 'transform' from '/home/esrf/james1997a/Code/Anri/anri/sandbox/transform.py'>"
      ]
     },
     "execution_count": 12,
     "metadata": {},
     "output_type": "execute_result"
    }
   ],
   "source": [
    "import importlib\n",
    "importlib.reload(mytrans)"
   ]
  },
  {
   "cell_type": "markdown",
   "id": "9ea90566-d271-4e31-b8d0-7a7fb75480fb",
   "metadata": {},
   "source": [
    "# Full pipeline test: sc, fc, omega, origins (zeroes for now) to g-vectors"
   ]
  },
  {
   "cell_type": "code",
   "execution_count": 21,
   "id": "891d79d2-1cf4-4261-af07-d434e3491818",
   "metadata": {},
   "outputs": [],
   "source": [
    "gvecs_me = mytrans.det_to_g(cf.sc, cf.fc, cf.omega, jnp.array((pars.get('t_x'), pars.get('t_y'), pars.get('t_z'))),\n",
    "                            pars.get('wedge'), pars.get('chi'), pars.get('wavelength'),\n",
    "                            pars.get('y_center'), pars.get('y_size'), pars.get('tilt_y'),\n",
    "                                              pars.get('z_center'), pars.get('z_size'), pars.get('tilt_z'),\n",
    "                                              pars.get('tilt_x'),\n",
    "                                              pars.get('distance'),\n",
    "                                              pars.get('o11'), pars.get('o12'), pars.get('o21'),pars.get('o22'), )"
   ]
  },
  {
   "cell_type": "code",
   "execution_count": 22,
   "id": "e84325f9-94dd-427a-b288-7773bb1ac3b8",
   "metadata": {},
   "outputs": [
    {
     "data": {
      "text/plain": [
       "Array([[-0.32244418,  0.0760074 ,  0.69370081],\n",
       "       [-0.10574296, -0.09161964,  0.03334961],\n",
       "       [ 1.04111012, -0.50065258, -1.00153655],\n",
       "       ...,\n",
       "       [-1.08158685, -0.86094558,  1.05477111],\n",
       "       [ 0.81374755,  1.11029796,  1.51385406],\n",
       "       [-0.295523  ,  0.88655418, -0.96764699]], dtype=float64)"
      ]
     },
     "execution_count": 22,
     "metadata": {},
     "output_type": "execute_result"
    }
   ],
   "source": [
    "gvecs_me"
   ]
  },
  {
   "cell_type": "code",
   "execution_count": 23,
   "id": "7a3ef23c-4405-4693-ac0c-bd8700477250",
   "metadata": {},
   "outputs": [
    {
     "data": {
      "text/plain": [
       "array([[-0.32244418,  0.0760074 ,  0.69370081],\n",
       "       [-0.10574296, -0.09161964,  0.03334961],\n",
       "       [ 1.04111012, -0.50065258, -1.00153655],\n",
       "       ...,\n",
       "       [-1.08158685, -0.86094558,  1.05477111],\n",
       "       [ 0.81374755,  1.11029796,  1.51385406],\n",
       "       [-0.295523  ,  0.88655418, -0.96764699]])"
      ]
     },
     "execution_count": 23,
     "metadata": {},
     "output_type": "execute_result"
    }
   ],
   "source": [
    "gvecs"
   ]
  },
  {
   "cell_type": "code",
   "execution_count": 24,
   "id": "ef23fd6a-691f-4369-b214-dcb1cf95f0f3",
   "metadata": {},
   "outputs": [],
   "source": [
    "assert np.allclose(gvecs_me, gvecs)"
   ]
  },
  {
   "cell_type": "markdown",
   "id": "1789ba4a-8b63-42fe-a534-e5e32fae07fe",
   "metadata": {},
   "source": [
    "# Lab <-> Detector"
   ]
  },
  {
   "cell_type": "code",
   "execution_count": 25,
   "id": "8ea2f694-897e-4008-a040-2dafb4f80d0e",
   "metadata": {},
   "outputs": [
    {
     "name": "stdout",
     "output_type": "stream",
     "text": [
      "CPU times: user 61 ms, sys: 0 ns, total: 61 ms\n",
      "Wall time: 2.15 ms\n"
     ]
    }
   ],
   "source": [
    "%%time\n",
    "\n",
    "xyz_id11 = ImageD11.transform.compute_xyz_lab((cf.sc, cf.fc), **pars.parameters)"
   ]
  },
  {
   "cell_type": "code",
   "execution_count": 27,
   "id": "e848fc17-29d1-4755-96b1-8336a090df3f",
   "metadata": {},
   "outputs": [
    {
     "name": "stdout",
     "output_type": "stream",
     "text": [
      "CPU times: user 643 μs, sys: 0 ns, total: 643 μs\n",
      "Wall time: 448 μs\n"
     ]
    }
   ],
   "source": [
    "%%time\n",
    "\n",
    "xyz_me = mytrans.det_to_xyz_lab(cf.sc, cf.fc, pars.get('y_center'), pars.get('y_size'), pars.get('tilt_y'),\n",
    "                                              pars.get('z_center'), pars.get('z_size'), pars.get('tilt_z'),\n",
    "                                              pars.get('tilt_x'),\n",
    "                                              pars.get('distance'),\n",
    "                                              pars.get('o11'), pars.get('o12'), pars.get('o21'),pars.get('o22'))"
   ]
  },
  {
   "cell_type": "code",
   "execution_count": 28,
   "id": "f6725782-8bce-4871-befe-83fee74d81f7",
   "metadata": {},
   "outputs": [],
   "source": [
    "assert np.allclose(xyz_id11.T, xyz_me)"
   ]
  },
  {
   "cell_type": "code",
   "execution_count": 29,
   "id": "22c0a86a-2066-4ad7-870f-4ac96ab70df0",
   "metadata": {},
   "outputs": [],
   "source": [
    "v_det_me = mytrans.xyz_lab_to_det(cf.xl, cf.yl, cf.zl,\n",
    "                                  pars.get('y_center'), pars.get('y_size'), pars.get('tilt_y'),\n",
    "                                              pars.get('z_center'), pars.get('z_size'), pars.get('tilt_z'),\n",
    "                                              pars.get('tilt_x'),\n",
    "                                              pars.get('distance'),\n",
    "                                              pars.get('o11'), pars.get('o12'), pars.get('o21'),pars.get('o22'))"
   ]
  },
  {
   "cell_type": "code",
   "execution_count": 30,
   "id": "8cac2af1-57cc-4085-a3fb-6c659d3f548f",
   "metadata": {},
   "outputs": [],
   "source": [
    "assert np.allclose(v_det_me[:, 0], cf.sc)\n",
    "assert np.allclose(v_det_me[:, 1], cf.fc)"
   ]
  },
  {
   "cell_type": "markdown",
   "id": "d79c9c95-8709-4a41-9ba1-4651a00c7839",
   "metadata": {},
   "source": [
    "# Lab <-> tth, eta, omega"
   ]
  },
  {
   "cell_type": "code",
   "execution_count": 31,
   "id": "16a6daa5-90bc-44f3-a825-eb8b234922e6",
   "metadata": {},
   "outputs": [],
   "source": [
    "tth_id11, eta_id11 = ImageD11.transform.compute_tth_eta_from_xyz(np.stack((cf.xl, cf.yl, cf.zl)), cf.omega, **pars.parameters)"
   ]
  },
  {
   "cell_type": "code",
   "execution_count": 32,
   "id": "27288cd1-8d8d-4211-a13e-a7dc53eff1ce",
   "metadata": {},
   "outputs": [],
   "source": [
    "tth_me, eta_me = mytrans.xyz_lab_to_tth_eta(jnp.column_stack((cf.xl, cf.yl, cf.zl)), cf.omega, jnp.array((pars.get('t_x'), pars.get('t_y'), pars.get('t_z'))), pars.get('wedge'), pars.get('chi'))"
   ]
  },
  {
   "cell_type": "code",
   "execution_count": 33,
   "id": "f6a71241-e6ee-45b7-a3a4-8de941564826",
   "metadata": {},
   "outputs": [],
   "source": [
    "assert np.allclose(tth_me, tth_id11)\n",
    "assert np.allclose(eta_me, eta_id11)"
   ]
  },
  {
   "cell_type": "code",
   "execution_count": 34,
   "id": "aa113fdc-99c1-43be-8300-817059cecff3",
   "metadata": {},
   "outputs": [],
   "source": [
    "fc_id11, sc_id11 = ImageD11.transform.compute_xyz_from_tth_eta(cf.tth, cf.eta, cf.omega, **pars.parameters)"
   ]
  },
  {
   "cell_type": "code",
   "execution_count": 35,
   "id": "ab65c56a-e402-40a5-86d3-b9913aef0777",
   "metadata": {},
   "outputs": [],
   "source": [
    "assert np.allclose(fc_id11, cf.fc)\n",
    "assert np.allclose(sc_id11, cf.sc)"
   ]
  },
  {
   "cell_type": "code",
   "execution_count": 36,
   "id": "6f824014-d320-4072-a78d-c6664b423d5b",
   "metadata": {},
   "outputs": [],
   "source": [
    "sc_me, fc_me = mytrans.tth_eta_omega_to_det(cf.tth, cf.eta, cf.omega, jnp.array((pars.get('t_x'), pars.get('t_y'), pars.get('t_z'))),\n",
    "                                          pars.get('wedge'), pars.get('chi'),  pars.get('wavelength'),\n",
    "                                          pars.get('y_center'), pars.get('y_size'), pars.get('tilt_y'),\n",
    "                                          pars.get('z_center'), pars.get('z_size'), pars.get('tilt_z'),\n",
    "                                          pars.get('tilt_x'),\n",
    "                                          pars.get('distance'),\n",
    "                                          pars.get('o11'), pars.get('o12'), pars.get('o21'),pars.get('o22'))"
   ]
  },
  {
   "cell_type": "code",
   "execution_count": 37,
   "id": "08eb2927-53b5-4000-bd97-49e4074c7ca5",
   "metadata": {},
   "outputs": [],
   "source": [
    "assert np.allclose(sc_me, cf.sc)\n",
    "assert np.allclose(fc_me, cf.fc)"
   ]
  },
  {
   "cell_type": "code",
   "execution_count": 38,
   "id": "95d35268-d50e-4d7a-8420-b5f7213cc8f8",
   "metadata": {},
   "outputs": [],
   "source": [
    "\n",
    "dxyzl = mytrans.det_to_xyz_lab(sc, fc, pars.get('y_center'), pars.get('y_size'), pars.get('tilt_y'),\n",
    "                                              pars.get('z_center'), pars.get('z_size'), pars.get('tilt_z'),\n",
    "                                              pars.get('tilt_x'),\n",
    "                                              pars.get('distance'),\n",
    "                                              pars.get('o11'), pars.get('o12'), pars.get('o21'),pars.get('o22'))"
   ]
  },
  {
   "cell_type": "code",
   "execution_count": 39,
   "id": "2c062532-14ef-48d4-a568-ee356324bb42",
   "metadata": {},
   "outputs": [
    {
     "data": {
      "text/plain": [
       "(100000, 3)"
      ]
     },
     "execution_count": 39,
     "metadata": {},
     "output_type": "execute_result"
    }
   ],
   "source": [
    "dxyzl.shape"
   ]
  },
  {
   "cell_type": "code",
   "execution_count": 40,
   "id": "a7156727-6046-406e-8eac-fc9ca24c3e18",
   "metadata": {},
   "outputs": [],
   "source": [
    "t_id11 = ImageD11.transform.compute_grain_origins(cf.omega, pars.get('wedge'), pars.get('chi'), cf.xl, cf.yl, cf.zl)"
   ]
  },
  {
   "cell_type": "code",
   "execution_count": 41,
   "id": "3fe7c56c-710f-4ea8-8b25-41773e3a9410",
   "metadata": {},
   "outputs": [],
   "source": [
    "t_me = mytrans.sample_to_lab(np.column_stack((cf.xl, cf.yl, cf.zl)), cf.omega, pars.get('wedge'), pars.get('chi'))"
   ]
  },
  {
   "cell_type": "code",
   "execution_count": 42,
   "id": "e0dfc57c-db59-4451-9ea5-ed233ab6d62e",
   "metadata": {},
   "outputs": [],
   "source": [
    "assert np.allclose(t_id11, t_me.T)"
   ]
  },
  {
   "cell_type": "code",
   "execution_count": null,
   "id": "a3ffaad1-0690-4e83-bf19-04d392d66876",
   "metadata": {},
   "outputs": [],
   "source": []
  },
  {
   "cell_type": "code",
   "execution_count": 47,
   "id": "551ae637-284c-42a7-82f5-97b23c9d06d8",
   "metadata": {},
   "outputs": [
    {
     "name": "stdout",
     "output_type": "stream",
     "text": [
      "CPU times: user 533 ms, sys: 6.48 ms, total: 539 ms\n",
      "Wall time: 31.5 ms\n"
     ]
    }
   ],
   "source": [
    "%%time\n",
    "\n",
    "tth_id11, (eta1_id11, eta2_id11), (omega1_id11, omega2_id11) = ImageD11.transform.uncompute_g_vectors(gvecs.T, pars.get('wavelength'), pars.get('wedge'), pars.get('chi'))"
   ]
  },
  {
   "cell_type": "code",
   "execution_count": 48,
   "id": "07e03d7a-0156-4b2b-9464-715d6d9c535a",
   "metadata": {},
   "outputs": [
    {
     "name": "stdout",
     "output_type": "stream",
     "text": [
      "CPU times: user 320 ms, sys: 5.05 ms, total: 325 ms\n",
      "Wall time: 213 ms\n"
     ]
    }
   ],
   "source": [
    "%%time\n",
    "\n",
    "tth_me, (eta1_me, eta2_me), (omega1_me, omega2_me) = mytrans.g_to_tth_eta_omega(gvecs, pars.get('wedge'), pars.get('chi'), pars.get('wavelength'), )"
   ]
  },
  {
   "cell_type": "code",
   "execution_count": null,
   "id": "5b2aaafc-bdc5-4976-9cd7-01870ddbb12e",
   "metadata": {},
   "outputs": [],
   "source": []
  },
  {
   "cell_type": "code",
   "execution_count": 49,
   "id": "1144784c-03e9-4388-8ce0-d10fc8b26e8b",
   "metadata": {},
   "outputs": [],
   "source": [
    "assert np.allclose(tth_id11, tth_me)\n",
    "assert np.allclose(eta1_id11, eta1_me)\n",
    "assert np.allclose(eta2_id11, eta2_me)\n",
    "assert np.allclose(omega1_id11, omega1_me)\n",
    "assert np.allclose(omega2_id11, omega2_me)"
   ]
  },
  {
   "cell_type": "code",
   "execution_count": 50,
   "id": "362b82c0-6e0d-4ca5-a3e0-b40d3fef65a3",
   "metadata": {},
   "outputs": [],
   "source": [
    "t_id11 = ImageD11.transform.compute_grain_origins(cf.omega, pars.get('wedge'), pars.get('chi'), cf.xl, cf.yl, cf.zl)"
   ]
  },
  {
   "cell_type": "code",
   "execution_count": 51,
   "id": "b56444f2-b0aa-49a0-8c60-d01825dcb2ef",
   "metadata": {},
   "outputs": [],
   "source": [
    "t_me = mytrans.sample_to_lab(np.column_stack((cf.xl, cf.yl, cf.zl)), cf.omega, pars.get('wedge'), pars.get('chi'))"
   ]
  },
  {
   "cell_type": "code",
   "execution_count": 52,
   "id": "3e229304-4a70-4d40-9fa5-794488a3471c",
   "metadata": {},
   "outputs": [
    {
     "data": {
      "text/plain": [
       "(3, 100000)"
      ]
     },
     "execution_count": 52,
     "metadata": {},
     "output_type": "execute_result"
    }
   ],
   "source": [
    "t_id11.shape"
   ]
  },
  {
   "cell_type": "code",
   "execution_count": 53,
   "id": "58d27e7b-1fce-47e1-a8fd-4e0711a66f0d",
   "metadata": {},
   "outputs": [
    {
     "data": {
      "text/plain": [
       "(100000, 3)"
      ]
     },
     "execution_count": 53,
     "metadata": {},
     "output_type": "execute_result"
    }
   ],
   "source": [
    "t_me.shape"
   ]
  },
  {
   "cell_type": "code",
   "execution_count": 54,
   "id": "7047b54f-bd0a-49fc-8389-9d835bd4792f",
   "metadata": {},
   "outputs": [],
   "source": [
    "assert np.allclose(t_id11, t_me.T)"
   ]
  },
  {
   "cell_type": "code",
   "execution_count": 55,
   "id": "6d788fb2-6957-473f-b360-1d48943f32db",
   "metadata": {},
   "outputs": [
    {
     "name": "stdout",
     "output_type": "stream",
     "text": [
      "CPU times: user 575 ms, sys: 15.8 ms, total: 591 ms\n",
      "Wall time: 33.3 ms\n"
     ]
    }
   ],
   "source": [
    "%%time\n",
    "\n",
    "tth_id11, (eta1_id11, eta2_id11), (omega1_id11, omega2_id11) = ImageD11.transform.uncompute_g_vectors(gvecs.T, pars.get('wavelength'), pars.get('wedge'), pars.get('chi'))"
   ]
  },
  {
   "cell_type": "code",
   "execution_count": 56,
   "id": "d715c1b5-ba44-4894-864c-e7754e0e5b26",
   "metadata": {},
   "outputs": [
    {
     "data": {
      "text/plain": [
       "array([12.55926516,  2.34531498, 25.12971977, ..., 28.648915  ,\n",
       "       33.85193998, 22.06978978])"
      ]
     },
     "execution_count": 56,
     "metadata": {},
     "output_type": "execute_result"
    }
   ],
   "source": [
    "tth_id11"
   ]
  },
  {
   "cell_type": "code",
   "execution_count": 57,
   "id": "3991a92a-0655-4d8b-a6be-4cdb06908d9c",
   "metadata": {},
   "outputs": [
    {
     "name": "stdout",
     "output_type": "stream",
     "text": [
      "CPU times: user 0 ns, sys: 742 μs, total: 742 μs\n",
      "Wall time: 522 μs\n"
     ]
    }
   ],
   "source": [
    "%%time\n",
    "\n",
    "tth_me, (eta1_me, eta2_me), (omega1_me, omega2_me) = mytrans.g_to_tth_eta_omega(gvecs, pars.get('wedge'), pars.get('chi'), pars.get('wavelength'))"
   ]
  },
  {
   "cell_type": "code",
   "execution_count": 58,
   "id": "ad34267c-fcda-4728-b795-82f8371ff0eb",
   "metadata": {},
   "outputs": [
    {
     "data": {
      "text/plain": [
       "Array([12.55926516,  2.34531498, 25.12971977, ..., 28.648915  ,\n",
       "       33.85193998, 22.06978978], dtype=float64)"
      ]
     },
     "execution_count": 58,
     "metadata": {},
     "output_type": "execute_result"
    }
   ],
   "source": [
    "tth_me"
   ]
  },
  {
   "cell_type": "code",
   "execution_count": 59,
   "id": "726d6278-df2a-4b94-a78a-941a20862f07",
   "metadata": {},
   "outputs": [],
   "source": [
    "assert np.allclose(tth_id11, tth_me)\n",
    "assert np.allclose(eta1_id11, eta1_me)\n",
    "assert np.allclose(eta2_id11, eta2_me)\n",
    "assert np.allclose(omega1_id11, omega1_me)\n",
    "assert np.allclose(omega2_id11, omega2_me)"
   ]
  },
  {
   "cell_type": "code",
   "execution_count": 60,
   "id": "a30f8979-3f49-48b2-92d8-8da203ceec56",
   "metadata": {},
   "outputs": [
    {
     "data": {
      "text/plain": [
       "Array([ 24.81834276,  77.50977577, 132.32951041, ...,  51.18759884,\n",
       "        38.78171996, 137.35821893], dtype=float64)"
      ]
     },
     "execution_count": 60,
     "metadata": {},
     "output_type": "execute_result"
    }
   ],
   "source": [
    "eta1_me"
   ]
  },
  {
   "cell_type": "code",
   "execution_count": 61,
   "id": "9c8a85b2-204b-4cb8-95eb-6bc2250235ab",
   "metadata": {},
   "outputs": [
    {
     "data": {
      "text/plain": [
       "array([ 24.81834276,  77.50977577, 132.32951041, ...,  51.18759884,\n",
       "        38.78171996, 137.35821893])"
      ]
     },
     "execution_count": 61,
     "metadata": {},
     "output_type": "execute_result"
    }
   ],
   "source": [
    "eta1_id11"
   ]
  },
  {
   "cell_type": "code",
   "execution_count": 62,
   "id": "2d024cb0-f0c6-429d-87d3-70286a7be3cf",
   "metadata": {},
   "outputs": [],
   "source": [
    "# test k vector computation\n",
    "k_id11 = ImageD11.transform.compute_k_vectors(cf.tth, cf.eta, pars.get('wavelength'))"
   ]
  },
  {
   "cell_type": "code",
   "execution_count": 63,
   "id": "ad00d31c-8f11-4935-9b1d-c1927b1f7ff1",
   "metadata": {},
   "outputs": [
    {
     "data": {
      "text/plain": [
       "array([[-0.08408603, -0.00294359, -0.3326114 , ..., -0.43021346,\n",
       "        -0.59570555, -0.25748682],\n",
       "       [-0.32073882,  0.13922682,  1.13769147, ..., -1.31279195,\n",
       "        -1.22609488,  0.92782587],\n",
       "       [ 0.69355918,  0.03598828, -0.96574662, ...,  1.05597973,\n",
       "         1.52595118, -0.93941074]])"
      ]
     },
     "execution_count": 63,
     "metadata": {},
     "output_type": "execute_result"
    }
   ],
   "source": [
    "k_id11"
   ]
  },
  {
   "cell_type": "code",
   "execution_count": 64,
   "id": "62efa8ed-0e9c-4200-b2e3-54aaa027e450",
   "metadata": {},
   "outputs": [],
   "source": [
    "k_me = mytrans.tth_eta_to_k(cf.tth, cf.eta, pars.get('wavelength'))"
   ]
  },
  {
   "cell_type": "code",
   "execution_count": 65,
   "id": "304beddf-f153-4efe-82c0-c414e6b0f66b",
   "metadata": {},
   "outputs": [
    {
     "data": {
      "text/plain": [
       "Array([[-0.08408603, -0.32073882,  0.69355918],\n",
       "       [-0.00294359,  0.13922682,  0.03598828],\n",
       "       [-0.3326114 ,  1.13769147, -0.96574662],\n",
       "       ...,\n",
       "       [-0.43021346, -1.31279195,  1.05597973],\n",
       "       [-0.59570555, -1.22609488,  1.52595118],\n",
       "       [-0.25748682,  0.92782587, -0.93941074]], dtype=float64)"
      ]
     },
     "execution_count": 65,
     "metadata": {},
     "output_type": "execute_result"
    }
   ],
   "source": [
    "k_me"
   ]
  },
  {
   "cell_type": "code",
   "execution_count": 66,
   "id": "d8acdc91-e65a-4297-a84a-d0121e140331",
   "metadata": {},
   "outputs": [
    {
     "data": {
      "text/plain": [
       "(3, 100000)"
      ]
     },
     "execution_count": 66,
     "metadata": {},
     "output_type": "execute_result"
    }
   ],
   "source": [
    "k_id11.shape"
   ]
  },
  {
   "cell_type": "code",
   "execution_count": 67,
   "id": "ec9719b8-8ee4-497c-95f5-42c5df4150df",
   "metadata": {},
   "outputs": [
    {
     "data": {
      "text/plain": [
       "(100000, 3)"
      ]
     },
     "execution_count": 67,
     "metadata": {},
     "output_type": "execute_result"
    }
   ],
   "source": [
    "k_me.shape"
   ]
  },
  {
   "cell_type": "code",
   "execution_count": 68,
   "id": "2f1a0d52-6fac-428b-8f57-ab3acab1fe56",
   "metadata": {},
   "outputs": [],
   "source": [
    "assert np.allclose(k_id11.T, k_me)"
   ]
  },
  {
   "cell_type": "code",
   "execution_count": 69,
   "id": "4a97acf7-e5b3-48a3-b2de-7fff584b19b1",
   "metadata": {},
   "outputs": [],
   "source": [
    "# test computation of angles for g-vectors\n",
    "\n",
    "W =  mytrans.wedgemat(pars.get('wedge'))\n",
    "C =  mytrans.chimat(pars.get('chi'))\n",
    "pre = (C @ W).T\n",
    "\n",
    "oms_id11 = ImageD11.gv_general.g_to_k(gvecs.T, pars.get('wavelength'), axis=[0,0,1], pre=pre, post=None)"
   ]
  },
  {
   "cell_type": "code",
   "execution_count": 70,
   "id": "47f4c1f2-4321-4f4b-abaa-1da4b1d21faa",
   "metadata": {},
   "outputs": [
    {
     "data": {
      "text/plain": [
       "(array([  60.69632233,  130.35772382, -133.7054595 , ...,  112.03377579,\n",
       "         -64.58801045,    5.45637236]),\n",
       " array([ -85.9125816 ,  -47.21417087,   81.53729172, ...,  -30.82771048,\n",
       "         165.61804221, -143.6559431 ]),\n",
       " array([ True,  True,  True, ...,  True,  True,  True]))"
      ]
     },
     "execution_count": 70,
     "metadata": {},
     "output_type": "execute_result"
    }
   ],
   "source": [
    "oms_id11"
   ]
  },
  {
   "cell_type": "code",
   "execution_count": 71,
   "id": "9e45bc75-e389-4f23-87cf-670c2c320225",
   "metadata": {},
   "outputs": [],
   "source": [
    "oms_me = mytrans.omega_solns_for_g(gvecs, pars.get('wavelength'), np.array([0,0,1]), pre, jnp.eye(3))"
   ]
  },
  {
   "cell_type": "code",
   "execution_count": 72,
   "id": "a35281f1-6296-4c09-8f2f-e9648b2baf2d",
   "metadata": {},
   "outputs": [
    {
     "data": {
      "text/plain": [
       "(Array([  60.69632233,  130.35772382, -133.7054595 , ...,  112.03377579,\n",
       "         -64.58801045,    5.45637236], dtype=float64),\n",
       " Array([ -85.9125816 ,  -47.21417087,   81.53729172, ...,  -30.82771048,\n",
       "         165.61804221, -143.6559431 ], dtype=float64),\n",
       " Array([ True,  True,  True, ...,  True,  True,  True], dtype=bool))"
      ]
     },
     "execution_count": 72,
     "metadata": {},
     "output_type": "execute_result"
    }
   ],
   "source": [
    "oms_me"
   ]
  },
  {
   "cell_type": "code",
   "execution_count": 73,
   "id": "ddb09e71-de64-42b1-9906-e7e16b1732ef",
   "metadata": {},
   "outputs": [],
   "source": [
    "assert np.allclose(oms_id11[0], oms_me[0])\n",
    "assert np.allclose(oms_id11[1], oms_me[1])\n",
    "assert np.allclose(oms_id11[2], oms_me[2])"
   ]
  },
  {
   "cell_type": "code",
   "execution_count": 74,
   "id": "de807f8b-a097-495a-9275-7fb344dbee7c",
   "metadata": {},
   "outputs": [],
   "source": [
    "# now use k vectors to test g_from_k"
   ]
  },
  {
   "cell_type": "code",
   "execution_count": 75,
   "id": "52b8c2d7-8e0e-44a2-a25d-ac405b09b6bd",
   "metadata": {},
   "outputs": [],
   "source": [
    "# test k vector computation\n",
    "k_id11 = ImageD11.transform.compute_k_vectors(cf.tth, cf.eta, pars.get('wavelength'))\n",
    "g_id11 = ImageD11.transform.compute_g_from_k(k_id11, cf.omega, pars.get('wedge'), pars.get('chi'))"
   ]
  },
  {
   "cell_type": "code",
   "execution_count": 76,
   "id": "cc5747e2-7f08-460a-bcba-cf7069ecb836",
   "metadata": {},
   "outputs": [
    {
     "data": {
      "text/plain": [
       "array([[-0.32244418, -0.10574296,  1.04111012, ..., -1.08158685,\n",
       "         0.81374755, -0.295523  ],\n",
       "       [ 0.0760074 , -0.09161964, -0.50065258, ..., -0.86094558,\n",
       "         1.11029796,  0.88655418],\n",
       "       [ 0.69370081,  0.03334961, -1.00153655, ...,  1.05477111,\n",
       "         1.51385406, -0.96764699]])"
      ]
     },
     "execution_count": 76,
     "metadata": {},
     "output_type": "execute_result"
    }
   ],
   "source": [
    "g_id11"
   ]
  },
  {
   "cell_type": "code",
   "execution_count": 77,
   "id": "323341f0-0ded-46aa-aee7-d195e3c4b99b",
   "metadata": {},
   "outputs": [],
   "source": [
    "g_me = mytrans.lab_to_sample(k_id11.T, cf.omega, pars.get('wedge'), pars.get('chi'))"
   ]
  },
  {
   "cell_type": "code",
   "execution_count": 78,
   "id": "e060600e-5714-433e-9df9-961aed62cb91",
   "metadata": {},
   "outputs": [
    {
     "data": {
      "text/plain": [
       "Array([[-0.32244418,  0.0760074 ,  0.69370081],\n",
       "       [-0.10574296, -0.09161964,  0.03334961],\n",
       "       [ 1.04111012, -0.50065258, -1.00153655],\n",
       "       ...,\n",
       "       [-1.08158685, -0.86094558,  1.05477111],\n",
       "       [ 0.81374755,  1.11029796,  1.51385406],\n",
       "       [-0.295523  ,  0.88655418, -0.96764699]], dtype=float64)"
      ]
     },
     "execution_count": 78,
     "metadata": {},
     "output_type": "execute_result"
    }
   ],
   "source": [
    "g_me"
   ]
  },
  {
   "cell_type": "code",
   "execution_count": 79,
   "id": "356a8ee8-e57c-4017-b2eb-43b371559be4",
   "metadata": {},
   "outputs": [],
   "source": [
    "assert np.allclose(g_id11.T, g_me)"
   ]
  },
  {
   "cell_type": "code",
   "execution_count": 80,
   "id": "4a5ce489-4a9a-4c23-83e1-b0e60fbe7e2a",
   "metadata": {},
   "outputs": [],
   "source": [
    "g_id11_trans = ImageD11.transform.compute_g_from_k(k_id11, cf.omega, pars.get('wedge'), pars.get('chi'))"
   ]
  },
  {
   "cell_type": "code",
   "execution_count": 81,
   "id": "637ce6e9-1699-4a79-a114-0ba682b97936",
   "metadata": {},
   "outputs": [
    {
     "data": {
      "text/plain": [
       "array([[-0.32244418, -0.10574296,  1.04111012, ..., -1.08158685,\n",
       "         0.81374755, -0.295523  ],\n",
       "       [ 0.0760074 , -0.09161964, -0.50065258, ..., -0.86094558,\n",
       "         1.11029796,  0.88655418],\n",
       "       [ 0.69370081,  0.03334961, -1.00153655, ...,  1.05477111,\n",
       "         1.51385406, -0.96764699]])"
      ]
     },
     "execution_count": 81,
     "metadata": {},
     "output_type": "execute_result"
    }
   ],
   "source": [
    "g_id11_trans"
   ]
  },
  {
   "cell_type": "code",
   "execution_count": 82,
   "id": "591c79a3-37c9-4d2f-8901-96f98271cc96",
   "metadata": {},
   "outputs": [],
   "source": [
    "# C @ W -Z works\n",
    "\n",
    "W =  mytrans.wedgemat(pars.get('wedge'))\n",
    "C =  mytrans.chimat(pars.get('chi'))\n",
    "\n",
    "post = C @ W\n",
    "\n",
    "g_id11_gvgeneral = ImageD11.gv_general.k_to_g(k_id11, cf.omega, axis=np.array([0., 0., -1]), pre=None, post=post)"
   ]
  },
  {
   "cell_type": "code",
   "execution_count": 83,
   "id": "819ba094-8d6e-4fc4-88b7-8b1d3fa5468a",
   "metadata": {},
   "outputs": [
    {
     "data": {
      "text/plain": [
       "array([[-0.32244418, -0.10574296,  1.04111012, ..., -1.08158685,\n",
       "         0.81374755, -0.295523  ],\n",
       "       [ 0.0760074 , -0.09161964, -0.50065258, ..., -0.86094558,\n",
       "         1.11029796,  0.88655418],\n",
       "       [ 0.69370081,  0.03334961, -1.00153655, ...,  1.05477111,\n",
       "         1.51385406, -0.96764699]])"
      ]
     },
     "execution_count": 83,
     "metadata": {},
     "output_type": "execute_result"
    }
   ],
   "source": [
    "g_id11_gvgeneral"
   ]
  },
  {
   "cell_type": "code",
   "execution_count": 84,
   "id": "83c23d0c-5234-4459-8861-a81517b8857d",
   "metadata": {},
   "outputs": [],
   "source": [
    "assert np.allclose(g_id11_trans, g_id11_gvgeneral)"
   ]
  },
  {
   "cell_type": "code",
   "execution_count": 85,
   "id": "df0ef7ef-140b-4885-b769-13e96bdd43fb",
   "metadata": {},
   "outputs": [],
   "source": [
    "g_id11 = ImageD11.transform.compute_g_vectors(cf.tth, cf.eta, cf.omega, pars.get('wavelength'), pars.get('wedge'), pars.get('chi'))"
   ]
  },
  {
   "cell_type": "code",
   "execution_count": 86,
   "id": "d96f15f3-f7ac-4201-83ac-d6b00c511c70",
   "metadata": {},
   "outputs": [
    {
     "data": {
      "text/plain": [
       "array([[-0.32244418, -0.10574296,  1.04111012, ..., -1.08158685,\n",
       "         0.81374755, -0.295523  ],\n",
       "       [ 0.0760074 , -0.09161964, -0.50065258, ..., -0.86094558,\n",
       "         1.11029796,  0.88655418],\n",
       "       [ 0.69370081,  0.03334961, -1.00153655, ...,  1.05477111,\n",
       "         1.51385406, -0.96764699]])"
      ]
     },
     "execution_count": 86,
     "metadata": {},
     "output_type": "execute_result"
    }
   ],
   "source": [
    "g_id11"
   ]
  },
  {
   "cell_type": "code",
   "execution_count": 87,
   "id": "f0a5131a-962d-4caa-a10c-d50caaf71107",
   "metadata": {},
   "outputs": [],
   "source": [
    "assert np.allclose(gvecs, g_id11.T)"
   ]
  },
  {
   "cell_type": "code",
   "execution_count": 93,
   "id": "d79690d6-2062-4dd8-b232-a0b505524ce9",
   "metadata": {},
   "outputs": [],
   "source": [
    "g_me = mytrans.tth_eta_omega_to_g(cf.tth, cf.eta, cf.omega,  pars.get('wedge'), pars.get('chi'), pars.get('wavelength'),)"
   ]
  },
  {
   "cell_type": "code",
   "execution_count": 94,
   "id": "41f8b747-0628-4000-80fa-ab0db00a2fc1",
   "metadata": {},
   "outputs": [
    {
     "data": {
      "text/plain": [
       "Array([[-0.32244418,  0.0760074 ,  0.69370081],\n",
       "       [-0.10574296, -0.09161964,  0.03334961],\n",
       "       [ 1.04111012, -0.50065258, -1.00153655],\n",
       "       ...,\n",
       "       [-1.08158685, -0.86094558,  1.05477111],\n",
       "       [ 0.81374755,  1.11029796,  1.51385406],\n",
       "       [-0.295523  ,  0.88655418, -0.96764699]], dtype=float64)"
      ]
     },
     "execution_count": 94,
     "metadata": {},
     "output_type": "execute_result"
    }
   ],
   "source": [
    "g_me"
   ]
  },
  {
   "cell_type": "code",
   "execution_count": 95,
   "id": "e7ce5a80-e735-4c9e-aa4c-ea6ab993d79c",
   "metadata": {},
   "outputs": [],
   "source": [
    "assert np.allclose(gvecs, g_me)"
   ]
  },
  {
   "cell_type": "code",
   "execution_count": 96,
   "id": "25b7aac4-1411-41de-a236-28841a26335d",
   "metadata": {},
   "outputs": [],
   "source": [
    "assert np.allclose(gvecs, mytrans.sample_to_lab(mytrans.lab_to_sample(gvecs, cf.omega, pars.get('wedge'), pars.get('chi')), cf.omega, pars.get('wedge'), pars.get('chi')))"
   ]
  },
  {
   "cell_type": "code",
   "execution_count": 99,
   "id": "5308c0ce-d230-4e5e-92a3-43d25d1be5cb",
   "metadata": {},
   "outputs": [],
   "source": [
    "# g-vectors to (tth, eta, omega)\n",
    "tth, [eta_one, eta_two], [omega1, omega2] = mytrans.g_to_tth_eta_omega(gvecs, pars.get('wedge'), pars.get('chi'), pars.get('wavelength'), )"
   ]
  },
  {
   "cell_type": "code",
   "execution_count": 100,
   "id": "af3d1f88-0f0a-4132-a21c-6f619acfcbbe",
   "metadata": {},
   "outputs": [],
   "source": [
    "assert np.allclose(tth, cf.tth)\n",
    "assert all(np.logical_or(np.isclose(cf.eta, eta_one), np.isclose(cf.eta, eta_two)))\n",
    "assert all(np.logical_or(np.isclose(cf.omega, omega1 % 360), np.isclose(cf.omega, omega2 % 360)))"
   ]
  },
  {
   "cell_type": "code",
   "execution_count": 102,
   "id": "92c5ebad-52c5-48a0-ac8b-881f0fe5de28",
   "metadata": {},
   "outputs": [],
   "source": [
    "# (tth, eta, omega) to g-vectors\n",
    "gvecs_loop = mytrans.tth_eta_omega_to_g(tth, eta_one, omega1, pars.get('wedge'), pars.get('chi'), pars.get('wavelength'), )\n",
    "assert np.allclose(gvecs_loop, gvecs)"
   ]
  },
  {
   "cell_type": "code",
   "execution_count": 104,
   "id": "beb135b5-a2ac-4703-b343-b743a3f4d675",
   "metadata": {},
   "outputs": [],
   "source": [
    "# (tth, eta, omega) to g-vectors\n",
    "gvecs_loop = mytrans.tth_eta_omega_to_g(tth, eta_two, omega2, pars.get('wedge'), pars.get('chi'), pars.get('wavelength'), )\n",
    "assert np.allclose(gvecs_loop, gvecs)"
   ]
  },
  {
   "cell_type": "code",
   "execution_count": null,
   "id": "dbaad2ca-0e8c-4102-b73a-eeb1dc2e1695",
   "metadata": {},
   "outputs": [],
   "source": []
  },
  {
   "cell_type": "code",
   "execution_count": 105,
   "id": "1d7cb796-eb2a-45e0-b075-24f32cef8e8e",
   "metadata": {},
   "outputs": [],
   "source": [
    "k_me = mytrans.xyz_lab_to_k(np.column_stack((cf.xl, cf.yl, cf.zl)), cf.omega, jnp.array((pars.get('t_x'), pars.get('t_y'), pars.get('t_z'))), pars.get('wedge'), pars.get('chi'), pars.get('wavelength'))"
   ]
  },
  {
   "cell_type": "code",
   "execution_count": 106,
   "id": "736f36ee-3799-4104-9fe9-5198bbcd3dc1",
   "metadata": {},
   "outputs": [
    {
     "data": {
      "text/plain": [
       "Array([[-0.08408603, -0.32073882,  0.69355918],\n",
       "       [-0.00294359,  0.13922682,  0.03598828],\n",
       "       [-0.3326114 ,  1.13769147, -0.96574662],\n",
       "       ...,\n",
       "       [-0.43021346, -1.31279195,  1.05597973],\n",
       "       [-0.59570555, -1.22609488,  1.52595118],\n",
       "       [-0.25748682,  0.92782587, -0.93941074]], dtype=float64)"
      ]
     },
     "execution_count": 106,
     "metadata": {},
     "output_type": "execute_result"
    }
   ],
   "source": [
    "k_me"
   ]
  },
  {
   "cell_type": "code",
   "execution_count": null,
   "id": "231067cd-8fe5-4136-9c58-85c683386d56",
   "metadata": {},
   "outputs": [],
   "source": []
  },
  {
   "cell_type": "code",
   "execution_count": 107,
   "id": "9e273c27-78d1-4f9e-8aa6-2ea94c735c92",
   "metadata": {},
   "outputs": [],
   "source": [
    "sc_me, fc_me = mytrans.k_to_det(k_me, cf.omega, jnp.array((pars.get('t_x'), pars.get('t_y'), pars.get('t_z'))), pars.get('wedge'), pars.get('chi'), pars.get('wavelength'), pars.get('y_center'), pars.get('y_size'), pars.get('tilt_y'),\n",
    "                                              pars.get('z_center'), pars.get('z_size'), pars.get('tilt_z'),\n",
    "                                              pars.get('tilt_x'),\n",
    "                                              pars.get('distance'),\n",
    "                                              pars.get('o11'), pars.get('o12'), pars.get('o21'),pars.get('o22'))"
   ]
  },
  {
   "cell_type": "code",
   "execution_count": 108,
   "id": "6ef7b056-3fef-4295-8038-6c935e870f2b",
   "metadata": {},
   "outputs": [
    {
     "data": {
      "text/plain": [
       "Array([ 706.36364282, 1095.59005447, 1737.43641177, ...,  420.49921996,\n",
       "         60.67763906, 1707.04487671], dtype=float64)"
      ]
     },
     "execution_count": 108,
     "metadata": {},
     "output_type": "execute_result"
    }
   ],
   "source": [
    "sc_me"
   ]
  },
  {
   "cell_type": "code",
   "execution_count": 109,
   "id": "38076897-acff-4a3f-8d35-db494c2433d4",
   "metadata": {},
   "outputs": [],
   "source": [
    "xyz_me = mytrans.k_to_xyz_lab(k_me, cf.omega, jnp.array((pars.get('t_x'), pars.get('t_y'), pars.get('t_z'))), pars.get('wedge'), pars.get('chi'), pars.get('wavelength'), pars.get('y_center'), pars.get('y_size'), pars.get('tilt_y'),\n",
    "                                              pars.get('z_center'), pars.get('z_size'), pars.get('tilt_z'),\n",
    "                                              pars.get('tilt_x'),\n",
    "                                              pars.get('distance'),\n",
    "                                              pars.get('o11'), pars.get('o12'), pars.get('o21'),pars.get('o22'))"
   ]
  },
  {
   "cell_type": "code",
   "execution_count": 110,
   "id": "8e2dbd36-665e-48c4-9b2c-2f3d1e047827",
   "metadata": {},
   "outputs": [],
   "source": [
    "assert np.allclose(xyz_me, np.column_stack((cf.xl, cf.yl, cf.zl)))"
   ]
  },
  {
   "cell_type": "code",
   "execution_count": 111,
   "id": "4dc8862c-2d6a-49a2-a4f3-36a22a162314",
   "metadata": {},
   "outputs": [
    {
     "data": {
      "text/plain": [
       "Array([[151958.95858793, -14208.67191001,  30730.29224767],\n",
       "       [152561.66508866,   6047.4053718 ,   1566.62441148],\n",
       "       [153248.65484073,  54801.98503509, -46516.87271179],\n",
       "       ...,\n",
       "       [152230.30356463, -64802.00555688,  52130.04119328],\n",
       "       [151273.9033695 , -63557.26217465,  79101.27067311],\n",
       "       [153391.83355705,  43703.99769104, -44244.85757835]],      dtype=float64)"
      ]
     },
     "execution_count": 111,
     "metadata": {},
     "output_type": "execute_result"
    }
   ],
   "source": [
    "xyz_me"
   ]
  },
  {
   "cell_type": "code",
   "execution_count": null,
   "id": "5b63b7bb-5722-4483-b9b5-a40bdd8c1a6d",
   "metadata": {},
   "outputs": [],
   "source": []
  }
 ],
 "metadata": {
  "kernelspec": {
   "display_name": "Python 3 (main)",
   "language": "python",
   "name": "python3"
  },
  "language_info": {
   "codemirror_mode": {
    "name": "ipython",
    "version": 3
   },
   "file_extension": ".py",
   "mimetype": "text/x-python",
   "name": "python",
   "nbconvert_exporter": "python",
   "pygments_lexer": "ipython3",
   "version": "3.12.9"
  }
 },
 "nbformat": 4,
 "nbformat_minor": 5
}
