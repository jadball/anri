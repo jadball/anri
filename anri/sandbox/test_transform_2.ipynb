{
 "cells": [
  {
   "cell_type": "code",
   "execution_count": 1,
   "id": "b54c0df0-9731-4b5c-b5b3-a0805e63cc40",
   "metadata": {},
   "outputs": [],
   "source": [
    "import os\n",
    "os.environ[\"XLA_PYTHON_CLIENT_PREALLOCATE\"] = \"0\"\n",
    "\n",
    "import numpy as np\n",
    "import jax\n",
    "import jax.numpy as jnp\n",
    "jax.config.update(\"jax_enable_x64\", True)\n",
    "jax.config.update(\"jax_platforms\", 'cpu')\n",
    "\n",
    "\n",
    "from ImageD11.parameters import AnalysisSchema\n",
    "from ImageD11.columnfile import columnfile"
   ]
  },
  {
   "cell_type": "code",
   "execution_count": 2,
   "id": "91a00602-c061-44af-b028-972c4e8efc05",
   "metadata": {},
   "outputs": [],
   "source": [
    "pars = AnalysisSchema.from_default().geometry_pars_obj"
   ]
  },
  {
   "cell_type": "code",
   "execution_count": 3,
   "id": "7a1c556d-45b0-466a-9fa3-95ab6f1a0974",
   "metadata": {},
   "outputs": [],
   "source": [
    "pars.set('tilt_x', 0.00123)\n",
    "pars.set('tilt_y', -0.0345)\n",
    "pars.set('tilt_z', 0.02)\n",
    "pars.set('chi', 1)\n",
    "pars.set('wedge', -3)\n",
    "pars.set('t_x', 1)\n",
    "pars.set('t_y', 2)\n",
    "pars.set('t_z', 3)"
   ]
  },
  {
   "cell_type": "code",
   "execution_count": 4,
   "id": "c6623917-b6ea-4cb6-836b-b298d84f0650",
   "metadata": {},
   "outputs": [],
   "source": [
    "nrows = 100_000\n",
    "\n",
    "fc = np.random.random(nrows) * 2048\n",
    "sc = np.random.random(nrows) * 2048\n",
    "om = np.random.random(nrows) * 360"
   ]
  },
  {
   "cell_type": "code",
   "execution_count": 5,
   "id": "5fdf6b4e-dd56-4825-9928-afb5bbc5b334",
   "metadata": {},
   "outputs": [],
   "source": [
    "cf = columnfile(new=True)\n",
    "cf.nrows = nrows\n",
    "\n",
    "cf.addcolumn(fc, 'fc')\n",
    "cf.addcolumn(sc, 'sc')\n",
    "cf.addcolumn(om, 'omega')"
   ]
  },
  {
   "cell_type": "code",
   "execution_count": 6,
   "id": "d3d8167d-b6b8-42bf-a3a4-2a72d3e48d13",
   "metadata": {},
   "outputs": [],
   "source": [
    "cf.parameters = pars"
   ]
  },
  {
   "cell_type": "code",
   "execution_count": 7,
   "id": "2bea32aa-6013-4c07-9896-33edb413c128",
   "metadata": {},
   "outputs": [],
   "source": [
    "cf.updateGeometry()"
   ]
  },
  {
   "cell_type": "code",
   "execution_count": 8,
   "id": "18cc8aec-7665-4b49-82a1-221a522719d3",
   "metadata": {},
   "outputs": [
    {
     "data": {
      "text/plain": [
       "['fc', 'sc', 'omega', 'xl', 'yl', 'zl', 'tth', 'eta', 'ds', 'gx', 'gy', 'gz']"
      ]
     },
     "execution_count": 8,
     "metadata": {},
     "output_type": "execute_result"
    }
   ],
   "source": [
    "cf.titles"
   ]
  },
  {
   "cell_type": "code",
   "execution_count": 9,
   "id": "df76ef09-2e53-4b90-b8fe-607307fafd24",
   "metadata": {},
   "outputs": [],
   "source": [
    "gvecs = np.column_stack([cf.gx, cf.gy, cf.gz])"
   ]
  },
  {
   "cell_type": "code",
   "execution_count": 10,
   "id": "58142fad-7b5f-44f5-9fb1-5db38fb1024c",
   "metadata": {},
   "outputs": [],
   "source": [
    "import ImageD11.transform, ImageD11.gv_general"
   ]
  },
  {
   "cell_type": "code",
   "execution_count": 11,
   "id": "dd84233e-ba05-4e6b-baac-af2747345372",
   "metadata": {},
   "outputs": [],
   "source": [
    "import transform as mytrans"
   ]
  },
  {
   "cell_type": "code",
   "execution_count": 12,
   "id": "36cde0e7-ed8e-4a45-90dd-5fc9c5c12ebe",
   "metadata": {},
   "outputs": [
    {
     "data": {
      "text/plain": [
       "<module 'transform' from '/home/esrf/james1997a/Code/Anri/anri/sandbox/transform.py'>"
      ]
     },
     "execution_count": 12,
     "metadata": {},
     "output_type": "execute_result"
    }
   ],
   "source": [
    "import importlib\n",
    "importlib.reload(mytrans)"
   ]
  },
  {
   "cell_type": "markdown",
   "id": "9ea90566-d271-4e31-b8d0-7a7fb75480fb",
   "metadata": {},
   "source": [
    "# Full pipeline test: sc, fc, omega, origins (zeroes for now) to g-vectors"
   ]
  },
  {
   "cell_type": "code",
   "execution_count": 13,
   "id": "891d79d2-1cf4-4261-af07-d434e3491818",
   "metadata": {},
   "outputs": [],
   "source": [
    "gvecs_me = mytrans.det_to_g(cf.sc, cf.fc, cf.omega, jnp.array((pars.get('t_x'), pars.get('t_y'), pars.get('t_z'))), pars.get('y_center'), pars.get('y_size'), pars.get('tilt_y'),\n",
    "                                              pars.get('z_center'), pars.get('z_size'), pars.get('tilt_z'),\n",
    "                                              pars.get('tilt_x'),\n",
    "                                              pars.get('distance'),\n",
    "                                              pars.get('o11'), pars.get('o12'), pars.get('o21'),pars.get('o22'), pars.get('wedge'), pars.get('chi'), pars.get('wavelength'))"
   ]
  },
  {
   "cell_type": "code",
   "execution_count": 14,
   "id": "e84325f9-94dd-427a-b288-7773bb1ac3b8",
   "metadata": {},
   "outputs": [
    {
     "data": {
      "text/plain": [
       "Array([[ 0.95948659,  0.10142665,  1.17956976],\n",
       "       [ 0.58846085, -0.2468271 , -0.51533651],\n",
       "       [ 0.04320291,  0.03133146,  0.44591103],\n",
       "       ...,\n",
       "       [ 0.28028584,  0.76705204, -0.25476143],\n",
       "       [ 0.23840036, -0.50650501, -0.45499541],\n",
       "       [-0.74953136,  0.91512474, -0.88148906]], dtype=float64)"
      ]
     },
     "execution_count": 14,
     "metadata": {},
     "output_type": "execute_result"
    }
   ],
   "source": [
    "gvecs_me"
   ]
  },
  {
   "cell_type": "code",
   "execution_count": 15,
   "id": "7a3ef23c-4405-4693-ac0c-bd8700477250",
   "metadata": {},
   "outputs": [
    {
     "data": {
      "text/plain": [
       "array([[ 0.95948659,  0.10142665,  1.17956976],\n",
       "       [ 0.58846085, -0.2468271 , -0.51533651],\n",
       "       [ 0.04320291,  0.03133146,  0.44591103],\n",
       "       ...,\n",
       "       [ 0.28028584,  0.76705204, -0.25476143],\n",
       "       [ 0.23840036, -0.50650501, -0.45499541],\n",
       "       [-0.74953136,  0.91512474, -0.88148906]])"
      ]
     },
     "execution_count": 15,
     "metadata": {},
     "output_type": "execute_result"
    }
   ],
   "source": [
    "gvecs"
   ]
  },
  {
   "cell_type": "code",
   "execution_count": 16,
   "id": "ef23fd6a-691f-4369-b214-dcb1cf95f0f3",
   "metadata": {},
   "outputs": [],
   "source": [
    "assert np.allclose(gvecs_me, gvecs)"
   ]
  },
  {
   "cell_type": "markdown",
   "id": "1789ba4a-8b63-42fe-a534-e5e32fae07fe",
   "metadata": {},
   "source": [
    "# Lab <-> Detector"
   ]
  },
  {
   "cell_type": "code",
   "execution_count": 17,
   "id": "8ea2f694-897e-4008-a040-2dafb4f80d0e",
   "metadata": {},
   "outputs": [
    {
     "name": "stdout",
     "output_type": "stream",
     "text": [
      "CPU times: user 47.5 ms, sys: 0 ns, total: 47.5 ms\n",
      "Wall time: 1.54 ms\n"
     ]
    }
   ],
   "source": [
    "%%time\n",
    "\n",
    "xyz_id11 = ImageD11.transform.compute_xyz_lab((cf.sc, cf.fc), **pars.parameters)"
   ]
  },
  {
   "cell_type": "code",
   "execution_count": 18,
   "id": "e848fc17-29d1-4755-96b1-8336a090df3f",
   "metadata": {},
   "outputs": [
    {
     "name": "stdout",
     "output_type": "stream",
     "text": [
      "CPU times: user 4.97 ms, sys: 142 μs, total: 5.11 ms\n",
      "Wall time: 113 μs\n"
     ]
    }
   ],
   "source": [
    "%%time\n",
    "\n",
    "xyz_me = mytrans.det_to_xyz_lab(cf.sc, cf.fc, pars.get('y_center'), pars.get('y_size'), pars.get('tilt_y'),\n",
    "                                              pars.get('z_center'), pars.get('z_size'), pars.get('tilt_z'),\n",
    "                                              pars.get('tilt_x'),\n",
    "                                              pars.get('distance'),\n",
    "                                              pars.get('o11'), pars.get('o12'), pars.get('o21'),pars.get('o22'))"
   ]
  },
  {
   "cell_type": "code",
   "execution_count": 19,
   "id": "f6725782-8bce-4871-befe-83fee74d81f7",
   "metadata": {},
   "outputs": [],
   "source": [
    "assert np.allclose(xyz_id11.T, xyz_me)"
   ]
  },
  {
   "cell_type": "code",
   "execution_count": 20,
   "id": "22c0a86a-2066-4ad7-870f-4ac96ab70df0",
   "metadata": {},
   "outputs": [],
   "source": [
    "v_det_me = mytrans.xyz_lab_to_det(cf.xl, cf.yl, cf.zl, pars.get('y_center'), pars.get('y_size'), pars.get('tilt_y'),\n",
    "                                              pars.get('z_center'), pars.get('z_size'), pars.get('tilt_z'),\n",
    "                                              pars.get('tilt_x'),\n",
    "                                              pars.get('distance'),\n",
    "                                              pars.get('o11'), pars.get('o12'), pars.get('o21'),pars.get('o22'))"
   ]
  },
  {
   "cell_type": "code",
   "execution_count": 21,
   "id": "8cac2af1-57cc-4085-a3fb-6c659d3f548f",
   "metadata": {},
   "outputs": [],
   "source": [
    "assert np.allclose(v_det_me[:, 0], cf.sc)\n",
    "assert np.allclose(v_det_me[:, 1], cf.fc)"
   ]
  },
  {
   "cell_type": "markdown",
   "id": "d79c9c95-8709-4a41-9ba1-4651a00c7839",
   "metadata": {},
   "source": [
    "# Lab <-> tth, eta, omega"
   ]
  },
  {
   "cell_type": "code",
   "execution_count": 22,
   "id": "16a6daa5-90bc-44f3-a825-eb8b234922e6",
   "metadata": {},
   "outputs": [],
   "source": [
    "tth_id11, eta_id11 = ImageD11.transform.compute_tth_eta_from_xyz(np.stack((cf.xl, cf.yl, cf.zl)), cf.omega, **pars.parameters)"
   ]
  },
  {
   "cell_type": "code",
   "execution_count": 23,
   "id": "27288cd1-8d8d-4211-a13e-a7dc53eff1ce",
   "metadata": {},
   "outputs": [],
   "source": [
    "tth_me, eta_me = mytrans.xyz_lab_to_tth_eta(jnp.column_stack((cf.xl, cf.yl, cf.zl)), cf.omega, jnp.array((pars.get('t_x'), pars.get('t_y'), pars.get('t_z'))), pars.get('wedge'), pars.get('chi'))"
   ]
  },
  {
   "cell_type": "code",
   "execution_count": 24,
   "id": "f6a71241-e6ee-45b7-a3a4-8de941564826",
   "metadata": {},
   "outputs": [],
   "source": [
    "assert np.allclose(tth_me, tth_id11)\n",
    "assert np.allclose(eta_me, eta_id11)"
   ]
  },
  {
   "cell_type": "code",
   "execution_count": 25,
   "id": "aa113fdc-99c1-43be-8300-817059cecff3",
   "metadata": {},
   "outputs": [],
   "source": [
    "fc_id11, sc_id11 = ImageD11.transform.compute_xyz_from_tth_eta(cf.tth, cf.eta, cf.omega, **pars.parameters)"
   ]
  },
  {
   "cell_type": "code",
   "execution_count": 26,
   "id": "ab65c56a-e402-40a5-86d3-b9913aef0777",
   "metadata": {},
   "outputs": [],
   "source": [
    "assert np.allclose(fc_id11, cf.fc)\n",
    "assert np.allclose(sc_id11, cf.sc)"
   ]
  },
  {
   "cell_type": "code",
   "execution_count": 27,
   "id": "6f824014-d320-4072-a78d-c6664b423d5b",
   "metadata": {},
   "outputs": [],
   "source": [
    "sc_me, fc_me = mytrans.tth_eta_omega_to_det(cf.tth, cf.eta, cf.omega, jnp.array((pars.get('t_x'), pars.get('t_y'), pars.get('t_z'))),\n",
    "                                          pars.get('wedge'), pars.get('chi'),  pars.get('wavelength'),\n",
    "                                          pars.get('y_center'), pars.get('y_size'), pars.get('tilt_y'),\n",
    "                                          pars.get('z_center'), pars.get('z_size'), pars.get('tilt_z'),\n",
    "                                          pars.get('tilt_x'),\n",
    "                                          pars.get('distance'),\n",
    "                                          pars.get('o11'), pars.get('o12'), pars.get('o21'),pars.get('o22'))"
   ]
  },
  {
   "cell_type": "code",
   "execution_count": 28,
   "id": "08eb2927-53b5-4000-bd97-49e4074c7ca5",
   "metadata": {},
   "outputs": [],
   "source": [
    "assert np.allclose(sc_me, cf.sc)\n",
    "assert np.allclose(fc_me, cf.fc)"
   ]
  },
  {
   "cell_type": "code",
   "execution_count": 29,
   "id": "95d35268-d50e-4d7a-8420-b5f7213cc8f8",
   "metadata": {},
   "outputs": [],
   "source": [
    "\n",
    "dxyzl = mytrans.det_to_xyz_lab(sc, fc, pars.get('y_center'), pars.get('y_size'), pars.get('tilt_y'),\n",
    "                                              pars.get('z_center'), pars.get('z_size'), pars.get('tilt_z'),\n",
    "                                              pars.get('tilt_x'),\n",
    "                                              pars.get('distance'),\n",
    "                                              pars.get('o11'), pars.get('o12'), pars.get('o21'),pars.get('o22'))"
   ]
  },
  {
   "cell_type": "code",
   "execution_count": 30,
   "id": "2c062532-14ef-48d4-a568-ee356324bb42",
   "metadata": {},
   "outputs": [
    {
     "data": {
      "text/plain": [
       "(100000, 3)"
      ]
     },
     "execution_count": 30,
     "metadata": {},
     "output_type": "execute_result"
    }
   ],
   "source": [
    "dxyzl.shape"
   ]
  },
  {
   "cell_type": "code",
   "execution_count": 31,
   "id": "a7156727-6046-406e-8eac-fc9ca24c3e18",
   "metadata": {},
   "outputs": [],
   "source": [
    "t_id11 = ImageD11.transform.compute_grain_origins(cf.omega, pars.get('wedge'), pars.get('chi'), cf.xl, cf.yl, cf.zl)"
   ]
  },
  {
   "cell_type": "code",
   "execution_count": 32,
   "id": "3fe7c56c-710f-4ea8-8b25-41773e3a9410",
   "metadata": {},
   "outputs": [],
   "source": [
    "t_me = mytrans.sample_to_lab(np.column_stack((cf.xl, cf.yl, cf.zl)), cf.omega, pars.get('wedge'), pars.get('chi'))"
   ]
  },
  {
   "cell_type": "code",
   "execution_count": 33,
   "id": "e0dfc57c-db59-4451-9ea5-ed233ab6d62e",
   "metadata": {},
   "outputs": [],
   "source": [
    "assert np.allclose(t_id11, t_me.T)"
   ]
  },
  {
   "cell_type": "code",
   "execution_count": null,
   "id": "a3ffaad1-0690-4e83-bf19-04d392d66876",
   "metadata": {},
   "outputs": [],
   "source": []
  },
  {
   "cell_type": "code",
   "execution_count": 34,
   "id": "551ae637-284c-42a7-82f5-97b23c9d06d8",
   "metadata": {},
   "outputs": [
    {
     "name": "stdout",
     "output_type": "stream",
     "text": [
      "CPU times: user 470 ms, sys: 0 ns, total: 470 ms\n",
      "Wall time: 31.6 ms\n"
     ]
    }
   ],
   "source": [
    "%%time\n",
    "\n",
    "tth_id11, (eta1_id11, eta2_id11), (omega1_id11, omega2_id11) = ImageD11.transform.uncompute_g_vectors(gvecs.T, pars.get('wavelength'), pars.get('wedge'), pars.get('chi'))"
   ]
  },
  {
   "cell_type": "code",
   "execution_count": 35,
   "id": "07e03d7a-0156-4b2b-9464-715d6d9c535a",
   "metadata": {},
   "outputs": [
    {
     "name": "stdout",
     "output_type": "stream",
     "text": [
      "CPU times: user 9.33 s, sys: 208 ms, total: 9.54 s\n",
      "Wall time: 264 ms\n"
     ]
    }
   ],
   "source": [
    "%%time\n",
    "\n",
    "tth_me, (eta1_me, eta2_me), (omega1_me, omega2_me) = mytrans.g_to_tth_eta_omega(gvecs, pars.get('wavelength'), pars.get('wedge'), pars.get('chi'))"
   ]
  },
  {
   "cell_type": "code",
   "execution_count": null,
   "id": "5b2aaafc-bdc5-4976-9cd7-01870ddbb12e",
   "metadata": {},
   "outputs": [],
   "source": []
  },
  {
   "cell_type": "code",
   "execution_count": 36,
   "id": "1144784c-03e9-4388-8ce0-d10fc8b26e8b",
   "metadata": {},
   "outputs": [],
   "source": [
    "assert np.allclose(tth_id11, tth_me)\n",
    "assert np.allclose(eta1_id11, eta1_me)\n",
    "assert np.allclose(eta2_id11, eta2_me)\n",
    "assert np.allclose(omega1_id11, omega1_me)\n",
    "assert np.allclose(omega2_id11, omega2_me)"
   ]
  },
  {
   "cell_type": "code",
   "execution_count": 37,
   "id": "362b82c0-6e0d-4ca5-a3e0-b40d3fef65a3",
   "metadata": {},
   "outputs": [],
   "source": [
    "t_id11 = ImageD11.transform.compute_grain_origins(cf.omega, pars.get('wedge'), pars.get('chi'), cf.xl, cf.yl, cf.zl)"
   ]
  },
  {
   "cell_type": "code",
   "execution_count": 38,
   "id": "b56444f2-b0aa-49a0-8c60-d01825dcb2ef",
   "metadata": {},
   "outputs": [],
   "source": [
    "t_me = mytrans.sample_to_lab(np.column_stack((cf.xl, cf.yl, cf.zl)), cf.omega, pars.get('wedge'), pars.get('chi'))"
   ]
  },
  {
   "cell_type": "code",
   "execution_count": 39,
   "id": "3e229304-4a70-4d40-9fa5-794488a3471c",
   "metadata": {},
   "outputs": [
    {
     "data": {
      "text/plain": [
       "(3, 100000)"
      ]
     },
     "execution_count": 39,
     "metadata": {},
     "output_type": "execute_result"
    }
   ],
   "source": [
    "t_id11.shape"
   ]
  },
  {
   "cell_type": "code",
   "execution_count": 40,
   "id": "58d27e7b-1fce-47e1-a8fd-4e0711a66f0d",
   "metadata": {},
   "outputs": [
    {
     "data": {
      "text/plain": [
       "(100000, 3)"
      ]
     },
     "execution_count": 40,
     "metadata": {},
     "output_type": "execute_result"
    }
   ],
   "source": [
    "t_me.shape"
   ]
  },
  {
   "cell_type": "code",
   "execution_count": 41,
   "id": "7047b54f-bd0a-49fc-8389-9d835bd4792f",
   "metadata": {},
   "outputs": [],
   "source": [
    "assert np.allclose(t_id11, t_me.T)"
   ]
  },
  {
   "cell_type": "code",
   "execution_count": 42,
   "id": "6d788fb2-6957-473f-b360-1d48943f32db",
   "metadata": {},
   "outputs": [
    {
     "name": "stdout",
     "output_type": "stream",
     "text": [
      "CPU times: user 445 ms, sys: 21.9 ms, total: 467 ms\n",
      "Wall time: 31.4 ms\n"
     ]
    }
   ],
   "source": [
    "%%time\n",
    "\n",
    "tth_id11, (eta1_id11, eta2_id11), (omega1_id11, omega2_id11) = ImageD11.transform.uncompute_g_vectors(gvecs.T, pars.get('wavelength'), pars.get('wedge'), pars.get('chi'))"
   ]
  },
  {
   "cell_type": "code",
   "execution_count": 43,
   "id": "d715c1b5-ba44-4894-864c-e7754e0e5b26",
   "metadata": {},
   "outputs": [
    {
     "data": {
      "text/plain": [
       "array([25.04572209, 13.40417926,  7.32731607, ..., 13.98287433,\n",
       "       11.78277976, 24.23321229])"
      ]
     },
     "execution_count": 43,
     "metadata": {},
     "output_type": "execute_result"
    }
   ],
   "source": [
    "tth_id11"
   ]
  },
  {
   "cell_type": "code",
   "execution_count": 44,
   "id": "3991a92a-0655-4d8b-a6be-4cdb06908d9c",
   "metadata": {},
   "outputs": [
    {
     "name": "stdout",
     "output_type": "stream",
     "text": [
      "CPU times: user 9.28 ms, sys: 312 μs, total: 9.59 ms\n",
      "Wall time: 208 μs\n"
     ]
    }
   ],
   "source": [
    "%%time\n",
    "\n",
    "tth_me, (eta1_me, eta2_me), (omega1_me, omega2_me) = mytrans.g_to_tth_eta_omega(gvecs, pars.get('wavelength'), pars.get('wedge'), pars.get('chi'))"
   ]
  },
  {
   "cell_type": "code",
   "execution_count": 45,
   "id": "ad34267c-fcda-4728-b795-82f8371ff0eb",
   "metadata": {},
   "outputs": [
    {
     "data": {
      "text/plain": [
       "Array([25.04572209, 13.40417926,  7.32731607, ..., 13.98287433,\n",
       "       11.78277976, 24.23321229], dtype=float64)"
      ]
     },
     "execution_count": 45,
     "metadata": {},
     "output_type": "execute_result"
    }
   ],
   "source": [
    "tth_me"
   ]
  },
  {
   "cell_type": "code",
   "execution_count": 46,
   "id": "726d6278-df2a-4b94-a78a-941a20862f07",
   "metadata": {},
   "outputs": [],
   "source": [
    "assert np.allclose(tth_id11, tth_me)\n",
    "assert np.allclose(eta1_id11, eta1_me)\n",
    "assert np.allclose(eta2_id11, eta2_me)\n",
    "assert np.allclose(omega1_id11, omega1_me)\n",
    "assert np.allclose(omega2_id11, omega2_me)"
   ]
  },
  {
   "cell_type": "code",
   "execution_count": 47,
   "id": "a30f8979-3f49-48b2-92d8-8da203ceec56",
   "metadata": {},
   "outputs": [
    {
     "data": {
      "text/plain": [
       "Array([ 37.32982109, 129.85362524,   2.47897353, ..., 108.10008206,\n",
       "       130.01702547, 127.92389259], dtype=float64)"
      ]
     },
     "execution_count": 47,
     "metadata": {},
     "output_type": "execute_result"
    }
   ],
   "source": [
    "eta1_me"
   ]
  },
  {
   "cell_type": "code",
   "execution_count": 48,
   "id": "9c8a85b2-204b-4cb8-95eb-6bc2250235ab",
   "metadata": {},
   "outputs": [
    {
     "data": {
      "text/plain": [
       "array([ 37.32982109, 129.85362524,   2.47897353, ..., 108.10008206,\n",
       "       130.01702547, 127.92389259])"
      ]
     },
     "execution_count": 48,
     "metadata": {},
     "output_type": "execute_result"
    }
   ],
   "source": [
    "eta1_id11"
   ]
  },
  {
   "cell_type": "code",
   "execution_count": 49,
   "id": "2d024cb0-f0c6-429d-87d3-70286a7be3cf",
   "metadata": {},
   "outputs": [],
   "source": [
    "# test k vector computation\n",
    "k_id11 = ImageD11.transform.compute_k_vectors(cf.tth, cf.eta, pars.get('wavelength'))"
   ]
  },
  {
   "cell_type": "code",
   "execution_count": 50,
   "id": "ad00d31c-8f11-4935-9b1d-c1927b1f7ff1",
   "metadata": {},
   "outputs": [
    {
     "data": {
      "text/plain": [
       "array([[-0.33042703, -0.09572685, -0.02869676, ..., -0.10412891,\n",
       "        -0.07404563, -0.30965151],\n",
       "       [ 0.86022399,  0.64323832,  0.00372509, ..., -0.80709301,\n",
       "        -0.54956059,  1.16805578],\n",
       "       [ 1.21372129, -0.49986233,  0.44816003, ..., -0.26379994,\n",
       "        -0.46141444, -0.84618861]])"
      ]
     },
     "execution_count": 50,
     "metadata": {},
     "output_type": "execute_result"
    }
   ],
   "source": [
    "k_id11"
   ]
  },
  {
   "cell_type": "code",
   "execution_count": 51,
   "id": "62efa8ed-0e9c-4200-b2e3-54aaa027e450",
   "metadata": {},
   "outputs": [],
   "source": [
    "k_me = mytrans.tth_eta_to_k(cf.tth, cf.eta, pars.get('wavelength'))"
   ]
  },
  {
   "cell_type": "code",
   "execution_count": 52,
   "id": "304beddf-f153-4efe-82c0-c414e6b0f66b",
   "metadata": {},
   "outputs": [
    {
     "data": {
      "text/plain": [
       "Array([[-0.33042703,  0.86022399,  1.21372129],\n",
       "       [-0.09572685,  0.64323832, -0.49986233],\n",
       "       [-0.02869676,  0.00372509,  0.44816003],\n",
       "       ...,\n",
       "       [-0.10412891, -0.80709301, -0.26379994],\n",
       "       [-0.07404563, -0.54956059, -0.46141444],\n",
       "       [-0.30965151,  1.16805578, -0.84618861]], dtype=float64)"
      ]
     },
     "execution_count": 52,
     "metadata": {},
     "output_type": "execute_result"
    }
   ],
   "source": [
    "k_me"
   ]
  },
  {
   "cell_type": "code",
   "execution_count": 53,
   "id": "d8acdc91-e65a-4297-a84a-d0121e140331",
   "metadata": {},
   "outputs": [
    {
     "data": {
      "text/plain": [
       "(3, 100000)"
      ]
     },
     "execution_count": 53,
     "metadata": {},
     "output_type": "execute_result"
    }
   ],
   "source": [
    "k_id11.shape"
   ]
  },
  {
   "cell_type": "code",
   "execution_count": 54,
   "id": "ec9719b8-8ee4-497c-95f5-42c5df4150df",
   "metadata": {},
   "outputs": [
    {
     "data": {
      "text/plain": [
       "(100000, 3)"
      ]
     },
     "execution_count": 54,
     "metadata": {},
     "output_type": "execute_result"
    }
   ],
   "source": [
    "k_me.shape"
   ]
  },
  {
   "cell_type": "code",
   "execution_count": 55,
   "id": "2f1a0d52-6fac-428b-8f57-ab3acab1fe56",
   "metadata": {},
   "outputs": [],
   "source": [
    "assert np.allclose(k_id11.T, k_me)"
   ]
  },
  {
   "cell_type": "code",
   "execution_count": 56,
   "id": "4a97acf7-e5b3-48a3-b2de-7fff584b19b1",
   "metadata": {},
   "outputs": [],
   "source": [
    "# test computation of angles for g-vectors\n",
    "\n",
    "W =  mytrans.wedgemat(pars.get('wedge'))\n",
    "C =  mytrans.chimat(pars.get('chi'))\n",
    "pre = (C @ W).T\n",
    "\n",
    "oms_id11 = ImageD11.gv_general.g_to_k(gvecs.T, pars.get('wavelength'), axis=[0,0,1], pre=pre, post=None)"
   ]
  },
  {
   "cell_type": "code",
   "execution_count": 57,
   "id": "47f4c1f2-4321-4f4b-abaa-1da4b1d21faa",
   "metadata": {},
   "outputs": [
    {
     "data": {
      "text/plain": [
       "(array([-104.31007188, -122.03708361,  -94.5061092 , ...,  -26.43846002,\n",
       "        -164.63160328,   25.80441422]),\n",
       " array([ 113.3714804 ,   76.055541  ,  133.49612977, ...,  168.21771307,\n",
       "          31.06076335, -124.86253601]),\n",
       " array([ True,  True,  True, ...,  True,  True,  True]))"
      ]
     },
     "execution_count": 57,
     "metadata": {},
     "output_type": "execute_result"
    }
   ],
   "source": [
    "oms_id11"
   ]
  },
  {
   "cell_type": "code",
   "execution_count": 58,
   "id": "9e45bc75-e389-4f23-87cf-670c2c320225",
   "metadata": {},
   "outputs": [],
   "source": [
    "oms_me = mytrans.omega_solns_for_g(gvecs, pars.get('wavelength'), np.array([0,0,1]), pre, jnp.eye(3))"
   ]
  },
  {
   "cell_type": "code",
   "execution_count": 59,
   "id": "a35281f1-6296-4c09-8f2f-e9648b2baf2d",
   "metadata": {},
   "outputs": [
    {
     "data": {
      "text/plain": [
       "(Array([-104.31007188, -122.03708361,  -94.5061092 , ...,  -26.43846002,\n",
       "        -164.63160328,   25.80441422], dtype=float64),\n",
       " Array([ 113.3714804 ,   76.055541  ,  133.49612977, ...,  168.21771307,\n",
       "          31.06076335, -124.86253601], dtype=float64),\n",
       " Array([ True,  True,  True, ...,  True,  True,  True], dtype=bool))"
      ]
     },
     "execution_count": 59,
     "metadata": {},
     "output_type": "execute_result"
    }
   ],
   "source": [
    "oms_me"
   ]
  },
  {
   "cell_type": "code",
   "execution_count": 60,
   "id": "ddb09e71-de64-42b1-9906-e7e16b1732ef",
   "metadata": {},
   "outputs": [],
   "source": [
    "assert np.allclose(oms_id11[0], oms_me[0])\n",
    "assert np.allclose(oms_id11[1], oms_me[1])\n",
    "assert np.allclose(oms_id11[2], oms_me[2])"
   ]
  },
  {
   "cell_type": "code",
   "execution_count": 61,
   "id": "de807f8b-a097-495a-9275-7fb344dbee7c",
   "metadata": {},
   "outputs": [],
   "source": [
    "# now use k vectors to test g_from_k"
   ]
  },
  {
   "cell_type": "code",
   "execution_count": 62,
   "id": "52b8c2d7-8e0e-44a2-a25d-ac405b09b6bd",
   "metadata": {},
   "outputs": [],
   "source": [
    "# test k vector computation\n",
    "k_id11 = ImageD11.transform.compute_k_vectors(cf.tth, cf.eta, pars.get('wavelength'))\n",
    "g_id11 = ImageD11.transform.compute_g_from_k(k_id11, cf.omega, pars.get('wedge'), pars.get('chi'))"
   ]
  },
  {
   "cell_type": "code",
   "execution_count": 63,
   "id": "cc5747e2-7f08-460a-bcba-cf7069ecb836",
   "metadata": {},
   "outputs": [
    {
     "data": {
      "text/plain": [
       "array([[ 0.95948659,  0.58846085,  0.04320291, ...,  0.28028584,\n",
       "         0.23840036, -0.74953136],\n",
       "       [ 0.10142665, -0.2468271 ,  0.03133146, ...,  0.76705204,\n",
       "        -0.50650501,  0.91512474],\n",
       "       [ 1.17956976, -0.51533651,  0.44591103, ..., -0.25476143,\n",
       "        -0.45499541, -0.88148906]])"
      ]
     },
     "execution_count": 63,
     "metadata": {},
     "output_type": "execute_result"
    }
   ],
   "source": [
    "g_id11"
   ]
  },
  {
   "cell_type": "code",
   "execution_count": 64,
   "id": "323341f0-0ded-46aa-aee7-d195e3c4b99b",
   "metadata": {},
   "outputs": [],
   "source": [
    "g_me = mytrans.lab_to_sample(k_id11.T, cf.omega, pars.get('wedge'), pars.get('chi'))"
   ]
  },
  {
   "cell_type": "code",
   "execution_count": 65,
   "id": "e060600e-5714-433e-9df9-961aed62cb91",
   "metadata": {},
   "outputs": [
    {
     "data": {
      "text/plain": [
       "Array([[ 0.95948659,  0.10142665,  1.17956976],\n",
       "       [ 0.58846085, -0.2468271 , -0.51533651],\n",
       "       [ 0.04320291,  0.03133146,  0.44591103],\n",
       "       ...,\n",
       "       [ 0.28028584,  0.76705204, -0.25476143],\n",
       "       [ 0.23840036, -0.50650501, -0.45499541],\n",
       "       [-0.74953136,  0.91512474, -0.88148906]], dtype=float64)"
      ]
     },
     "execution_count": 65,
     "metadata": {},
     "output_type": "execute_result"
    }
   ],
   "source": [
    "g_me"
   ]
  },
  {
   "cell_type": "code",
   "execution_count": 66,
   "id": "356a8ee8-e57c-4017-b2eb-43b371559be4",
   "metadata": {},
   "outputs": [],
   "source": [
    "assert np.allclose(g_id11.T, g_me)"
   ]
  },
  {
   "cell_type": "code",
   "execution_count": 67,
   "id": "4a5ce489-4a9a-4c23-83e1-b0e60fbe7e2a",
   "metadata": {},
   "outputs": [],
   "source": [
    "g_id11_trans = ImageD11.transform.compute_g_from_k(k_id11, cf.omega, pars.get('wedge'), pars.get('chi'))"
   ]
  },
  {
   "cell_type": "code",
   "execution_count": 68,
   "id": "637ce6e9-1699-4a79-a114-0ba682b97936",
   "metadata": {},
   "outputs": [
    {
     "data": {
      "text/plain": [
       "array([[ 0.95948659,  0.58846085,  0.04320291, ...,  0.28028584,\n",
       "         0.23840036, -0.74953136],\n",
       "       [ 0.10142665, -0.2468271 ,  0.03133146, ...,  0.76705204,\n",
       "        -0.50650501,  0.91512474],\n",
       "       [ 1.17956976, -0.51533651,  0.44591103, ..., -0.25476143,\n",
       "        -0.45499541, -0.88148906]])"
      ]
     },
     "execution_count": 68,
     "metadata": {},
     "output_type": "execute_result"
    }
   ],
   "source": [
    "g_id11_trans"
   ]
  },
  {
   "cell_type": "code",
   "execution_count": 69,
   "id": "591c79a3-37c9-4d2f-8901-96f98271cc96",
   "metadata": {},
   "outputs": [],
   "source": [
    "# C @ W -Z works\n",
    "\n",
    "W =  mytrans.wedgemat(pars.get('wedge'))\n",
    "C =  mytrans.chimat(pars.get('chi'))\n",
    "\n",
    "post = C @ W\n",
    "\n",
    "g_id11_gvgeneral = ImageD11.gv_general.k_to_g(k_id11, cf.omega, axis=np.array([0., 0., -1]), pre=None, post=post)"
   ]
  },
  {
   "cell_type": "code",
   "execution_count": 70,
   "id": "819ba094-8d6e-4fc4-88b7-8b1d3fa5468a",
   "metadata": {},
   "outputs": [
    {
     "data": {
      "text/plain": [
       "array([[ 0.95948659,  0.58846085,  0.04320291, ...,  0.28028584,\n",
       "         0.23840036, -0.74953136],\n",
       "       [ 0.10142665, -0.2468271 ,  0.03133146, ...,  0.76705204,\n",
       "        -0.50650501,  0.91512474],\n",
       "       [ 1.17956976, -0.51533651,  0.44591103, ..., -0.25476143,\n",
       "        -0.45499541, -0.88148906]])"
      ]
     },
     "execution_count": 70,
     "metadata": {},
     "output_type": "execute_result"
    }
   ],
   "source": [
    "g_id11_gvgeneral"
   ]
  },
  {
   "cell_type": "code",
   "execution_count": 71,
   "id": "83c23d0c-5234-4459-8861-a81517b8857d",
   "metadata": {},
   "outputs": [],
   "source": [
    "assert np.allclose(g_id11_trans, g_id11_gvgeneral)"
   ]
  },
  {
   "cell_type": "code",
   "execution_count": 72,
   "id": "df0ef7ef-140b-4885-b769-13e96bdd43fb",
   "metadata": {},
   "outputs": [],
   "source": [
    "g_id11 = ImageD11.transform.compute_g_vectors(cf.tth, cf.eta, cf.omega, pars.get('wavelength'), pars.get('wedge'), pars.get('chi'))"
   ]
  },
  {
   "cell_type": "code",
   "execution_count": 73,
   "id": "d96f15f3-f7ac-4201-83ac-d6b00c511c70",
   "metadata": {},
   "outputs": [
    {
     "data": {
      "text/plain": [
       "array([[ 0.95948659,  0.58846085,  0.04320291, ...,  0.28028584,\n",
       "         0.23840036, -0.74953136],\n",
       "       [ 0.10142665, -0.2468271 ,  0.03133146, ...,  0.76705204,\n",
       "        -0.50650501,  0.91512474],\n",
       "       [ 1.17956976, -0.51533651,  0.44591103, ..., -0.25476143,\n",
       "        -0.45499541, -0.88148906]])"
      ]
     },
     "execution_count": 73,
     "metadata": {},
     "output_type": "execute_result"
    }
   ],
   "source": [
    "g_id11"
   ]
  },
  {
   "cell_type": "code",
   "execution_count": 74,
   "id": "f0a5131a-962d-4caa-a10c-d50caaf71107",
   "metadata": {},
   "outputs": [],
   "source": [
    "assert np.allclose(gvecs, g_id11.T)"
   ]
  },
  {
   "cell_type": "code",
   "execution_count": 75,
   "id": "d79690d6-2062-4dd8-b232-a0b505524ce9",
   "metadata": {},
   "outputs": [],
   "source": [
    "g_me = mytrans.tth_eta_omega_to_g(cf.tth, cf.eta, cf.omega, pars.get('wavelength'), pars.get('wedge'), pars.get('chi'))"
   ]
  },
  {
   "cell_type": "code",
   "execution_count": 76,
   "id": "41f8b747-0628-4000-80fa-ab0db00a2fc1",
   "metadata": {},
   "outputs": [
    {
     "data": {
      "text/plain": [
       "Array([[ 0.95948659,  0.10142665,  1.17956976],\n",
       "       [ 0.58846085, -0.2468271 , -0.51533651],\n",
       "       [ 0.04320291,  0.03133146,  0.44591103],\n",
       "       ...,\n",
       "       [ 0.28028584,  0.76705204, -0.25476143],\n",
       "       [ 0.23840036, -0.50650501, -0.45499541],\n",
       "       [-0.74953136,  0.91512474, -0.88148906]], dtype=float64)"
      ]
     },
     "execution_count": 76,
     "metadata": {},
     "output_type": "execute_result"
    }
   ],
   "source": [
    "g_me"
   ]
  },
  {
   "cell_type": "code",
   "execution_count": 77,
   "id": "e7ce5a80-e735-4c9e-aa4c-ea6ab993d79c",
   "metadata": {},
   "outputs": [],
   "source": [
    "assert np.allclose(gvecs, g_me)"
   ]
  },
  {
   "cell_type": "code",
   "execution_count": 78,
   "id": "25b7aac4-1411-41de-a236-28841a26335d",
   "metadata": {},
   "outputs": [],
   "source": [
    "assert np.allclose(gvecs, mytrans.sample_to_lab(mytrans.lab_to_sample(gvecs, cf.omega, pars.get('wedge'), pars.get('chi')), cf.omega, pars.get('wedge'), pars.get('chi')))"
   ]
  },
  {
   "cell_type": "code",
   "execution_count": 79,
   "id": "5308c0ce-d230-4e5e-92a3-43d25d1be5cb",
   "metadata": {},
   "outputs": [],
   "source": [
    "# g-vectors to (tth, eta, omega)\n",
    "tth, [eta_one, eta_two], [omega1, omega2] = mytrans.g_to_tth_eta_omega(gvecs, pars.get('wavelength'), pars.get('wedge'), pars.get('chi'))"
   ]
  },
  {
   "cell_type": "code",
   "execution_count": 80,
   "id": "af3d1f88-0f0a-4132-a21c-6f619acfcbbe",
   "metadata": {},
   "outputs": [],
   "source": [
    "assert np.allclose(tth, cf.tth)\n",
    "assert all(np.logical_or(np.isclose(cf.eta, eta_one), np.isclose(cf.eta, eta_two)))\n",
    "assert all(np.logical_or(np.isclose(cf.omega, omega1 % 360), np.isclose(cf.omega, omega2 % 360)))"
   ]
  },
  {
   "cell_type": "code",
   "execution_count": 81,
   "id": "92c5ebad-52c5-48a0-ac8b-881f0fe5de28",
   "metadata": {},
   "outputs": [],
   "source": [
    "# (tth, eta, omega) to g-vectors\n",
    "gvecs_loop = mytrans.tth_eta_omega_to_g(tth, eta_one, omega1, pars.get('wavelength'), pars.get('wedge'), pars.get('chi'))\n",
    "assert np.allclose(gvecs_loop, gvecs)"
   ]
  },
  {
   "cell_type": "code",
   "execution_count": 82,
   "id": "beb135b5-a2ac-4703-b343-b743a3f4d675",
   "metadata": {},
   "outputs": [],
   "source": [
    "# (tth, eta, omega) to g-vectors\n",
    "gvecs_loop = mytrans.tth_eta_omega_to_g(tth, eta_two, omega2, pars.get('wavelength'), pars.get('wedge'), pars.get('chi'))\n",
    "assert np.allclose(gvecs_loop, gvecs)"
   ]
  },
  {
   "cell_type": "code",
   "execution_count": null,
   "id": "dbaad2ca-0e8c-4102-b73a-eeb1dc2e1695",
   "metadata": {},
   "outputs": [],
   "source": []
  },
  {
   "cell_type": "code",
   "execution_count": 83,
   "id": "1d7cb796-eb2a-45e0-b075-24f32cef8e8e",
   "metadata": {},
   "outputs": [],
   "source": [
    "k_me = mytrans.xyz_lab_to_k(np.column_stack((cf.xl, cf.yl, cf.zl)), cf.omega, jnp.array((pars.get('t_x'), pars.get('t_y'), pars.get('t_z'))), pars.get('wedge'), pars.get('chi'), pars.get('wavelength'))"
   ]
  },
  {
   "cell_type": "code",
   "execution_count": 84,
   "id": "736f36ee-3799-4104-9fe9-5198bbcd3dc1",
   "metadata": {},
   "outputs": [
    {
     "data": {
      "text/plain": [
       "Array([[-0.33042703,  0.86022399,  1.21372129],\n",
       "       [-0.09572685,  0.64323832, -0.49986233],\n",
       "       [-0.02869676,  0.00372509,  0.44816003],\n",
       "       ...,\n",
       "       [-0.10412891, -0.80709301, -0.26379994],\n",
       "       [-0.07404563, -0.54956059, -0.46141444],\n",
       "       [-0.30965151,  1.16805578, -0.84618861]], dtype=float64)"
      ]
     },
     "execution_count": 84,
     "metadata": {},
     "output_type": "execute_result"
    }
   ],
   "source": [
    "k_me"
   ]
  },
  {
   "cell_type": "code",
   "execution_count": null,
   "id": "231067cd-8fe5-4136-9c58-85c683386d56",
   "metadata": {},
   "outputs": [],
   "source": []
  },
  {
   "cell_type": "code",
   "execution_count": 85,
   "id": "9e273c27-78d1-4f9e-8aa6-2ea94c735c92",
   "metadata": {},
   "outputs": [],
   "source": [
    "sc_me, fc_me = mytrans.k_to_det(k_me, cf.omega, jnp.array((pars.get('t_x'), pars.get('t_y'), pars.get('t_z'))), pars.get('wedge'), pars.get('chi'), pars.get('wavelength'), pars.get('y_center'), pars.get('y_size'), pars.get('tilt_y'),\n",
    "                                              pars.get('z_center'), pars.get('z_size'), pars.get('tilt_z'),\n",
    "                                              pars.get('tilt_x'),\n",
    "                                              pars.get('distance'),\n",
    "                                              pars.get('o11'), pars.get('o12'), pars.get('o21'),pars.get('o22'))"
   ]
  },
  {
   "cell_type": "code",
   "execution_count": 86,
   "id": "6ef7b056-3fef-4295-8038-6c935e870f2b",
   "metadata": {},
   "outputs": [
    {
     "data": {
      "text/plain": [
       "Array([ 354.00009457, 1414.97430753,  855.55399372, ..., 1274.96106592,\n",
       "       1391.70152482, 1655.88918657], dtype=float64)"
      ]
     },
     "execution_count": 86,
     "metadata": {},
     "output_type": "execute_result"
    }
   ],
   "source": [
    "sc_me"
   ]
  },
  {
   "cell_type": "code",
   "execution_count": 87,
   "id": "38076897-acff-4a3f-8d35-db494c2433d4",
   "metadata": {},
   "outputs": [],
   "source": [
    "xyz_me = mytrans.k_to_xyz_lab(k_me, cf.omega, jnp.array((pars.get('t_x'), pars.get('t_y'), pars.get('t_z'))), pars.get('wedge'), pars.get('chi'), pars.get('wavelength'), pars.get('y_center'), pars.get('y_size'), pars.get('tilt_y'),\n",
    "                                              pars.get('z_center'), pars.get('z_size'), pars.get('tilt_z'),\n",
    "                                              pars.get('tilt_x'),\n",
    "                                              pars.get('distance'),\n",
    "                                              pars.get('o11'), pars.get('o12'), pars.get('o21'),pars.get('o22'))"
   ]
  },
  {
   "cell_type": "code",
   "execution_count": 88,
   "id": "8e2dbd36-665e-48c4-9b2c-2f3d1e047827",
   "metadata": {},
   "outputs": [],
   "source": [
    "assert np.allclose(xyz_me, np.column_stack((cf.xl, cf.yl, cf.zl)))"
   ]
  },
  {
   "cell_type": "code",
   "execution_count": 89,
   "id": "4dc8862c-2d6a-49a2-a4f3-36a22a162314",
   "metadata": {},
   "outputs": [
    {
     "data": {
      "text/plain": [
       "Array([[149952.71657758,  40518.2435823 ,  57171.38496362],\n",
       "       [152934.08967949,  28778.24817801, -22360.66257928],\n",
       "       [152057.90860147,    161.88613095,  19555.43606685],\n",
       "       ...,\n",
       "       [153875.0366588 , -36422.73851274, -11901.13067906],\n",
       "       [153940.73824932, -24591.29444115, -20645.06465661],\n",
       "       [153018.03486437,  55777.840309  , -40403.94382808]],      dtype=float64)"
      ]
     },
     "execution_count": 89,
     "metadata": {},
     "output_type": "execute_result"
    }
   ],
   "source": [
    "xyz_me"
   ]
  },
  {
   "cell_type": "code",
   "execution_count": null,
   "id": "5b63b7bb-5722-4483-b9b5-a40bdd8c1a6d",
   "metadata": {},
   "outputs": [],
   "source": []
  }
 ],
 "metadata": {
  "kernelspec": {
   "display_name": "Python 3 (main)",
   "language": "python",
   "name": "python3"
  },
  "language_info": {
   "codemirror_mode": {
    "name": "ipython",
    "version": 3
   },
   "file_extension": ".py",
   "mimetype": "text/x-python",
   "name": "python",
   "nbconvert_exporter": "python",
   "pygments_lexer": "ipython3",
   "version": "3.12.9"
  }
 },
 "nbformat": 4,
 "nbformat_minor": 5
}
