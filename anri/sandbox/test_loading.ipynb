{
 "cells": [
  {
   "cell_type": "code",
   "execution_count": 1,
   "metadata": {},
   "outputs": [
    {
     "name": "stderr",
     "output_type": "stream",
     "text": [
      "/home/esrf/james1997a/Code/Anri/.conda/lib/python3.11/site-packages/pytools/persistent_dict.py:52: RecommendedHashNotFoundWarning: Unable to import recommended hash 'siphash24.siphash13', falling back to 'hashlib.sha256'. Run 'python3 -m pip install siphash24' to install the recommended hash.\n",
      "  warn(\"Unable to import recommended hash 'siphash24.siphash13', \"\n"
     ]
    }
   ],
   "source": [
    "\"\"\"Try to test simple image loaders for compressed and non-compressed data\"\"\"\n",
    "\n",
    "import numpy as np\n",
    "import fabio\n",
    "import hdf5plugin\n",
    "import silx.io, silx.utils\n",
    "from segmentation import LocalBGCorrector, load_test_image\n",
    "from silx.opencl.codec.bitshuffle_lz4 import BitshuffleLz4\n",
    "\n",
    "from matplotlib import pyplot as plt\n",
    "%matplotlib widget\n"
   ]
  },
  {
   "cell_type": "code",
   "execution_count": 2,
   "metadata": {},
   "outputs": [],
   "source": [
    "eiger_file = \"/data/id11/inhouse2/test_data_3DXRD/S3DXRD/FeAu/RAW_DATA/FeAu_0p5_tR_nscope/FeAu_0p5_tR_nscope_top_200um/FeAu_0p5_tR_nscope_top_200um.h5\"\n",
    "frelon_file = \"/data/id11/inhouse2/test_data_3DXRD/TDXRD/FeAu/RAW_DATA/FeAu_0p5_tR/FeAu_0p5_tR_ff1/FeAu_0p5_tR_ff1.h5\"\n",
    "frelon_mask = \"/data/id11/inhouse2/test_data_3DXRD/TDXRD/FeAu/pars/mask.edf\"\n",
    "frelon_flat = \"/data/id11/inhouse1/ewoks/detectors/files/Frelon2k_C36/F36_Nov2023.edf\"\n",
    "frelon_dark = \"/data/id11/inhouse1/ewoks/detectors/files/Frelon2k_C36/dark_20240416.edf\""
   ]
  },
  {
   "cell_type": "code",
   "execution_count": 3,
   "metadata": {},
   "outputs": [],
   "source": [
    "mask = fabio.open(frelon_mask).data.astype(bool)\n",
    "bg = None\n",
    "flat = fabio.open(frelon_flat).data.astype(np.float32)\n",
    "dark = fabio.open(frelon_dark).data.astype(np.float32)\n",
    "\n",
    "corrfunc = LocalBGCorrector(\n",
    "    threshold=100,\n",
    "    smoothsigma=1.0,\n",
    "    bgc=0.9, \n",
    "    bg=bg,\n",
    "    dark=dark,\n",
    "    flat=flat,\n",
    "    mask=mask,\n",
    "    m_offset_thresh=70,\n",
    "    m_ratio_thresh=150,\n",
    ")"
   ]
  },
  {
   "cell_type": "code",
   "execution_count": 4,
   "metadata": {},
   "outputs": [],
   "source": [
    "def segment_frames(frames_iterator, corrector_function, startidx, stopidx):\n",
    "    for idx in range(startidx, stopidx+1):\n",
    "        image = frames_iterator[idx]\n",
    "        corrected_image = corrector_function(image.astype(np.float32))\n",
    "        yield corrected_image"
   ]
  },
  {
   "cell_type": "code",
   "execution_count": 5,
   "metadata": {},
   "outputs": [],
   "source": [
    "def read_and_correct():\n",
    "    data_path = '1.1/measurement/frelon3'\n",
    "\n",
    "    with silx.io.h5py_utils.File(frelon_file, 'r') as f:\n",
    "        dset = f[data_path]\n",
    "\n",
    "        for corrected_image in segment_frames(dset, corrfunc, 0, 100):\n",
    "            pass"
   ]
  },
  {
   "cell_type": "code",
   "execution_count": 6,
   "metadata": {},
   "outputs": [
    {
     "name": "stdout",
     "output_type": "stream",
     "text": [
      " "
     ]
    },
    {
     "name": "stdout",
     "output_type": "stream",
     "text": [
      "         19485 function calls (19484 primitive calls) in 20.473 seconds\n",
      "\n",
      "   Ordered by: cumulative time\n",
      "\n",
      "   ncalls  tottime  percall  cumtime  percall filename:lineno(function)\n",
      "        1    0.000    0.000   20.473   20.473 {built-in method builtins.exec}\n",
      "        1    0.001    0.001   20.473   20.473 <string>:1(<module>)\n",
      "        1    0.038    0.038   20.472   20.472 3858188479.py:1(read_and_correct)\n",
      "      102    0.037    0.000   20.433    0.200 3877884579.py:1(segment_frames)\n",
      "      101    6.501    0.064   19.961    0.198 segmentation.py:186(__call__)\n",
      "      101    0.002    0.000    6.669    0.066 _filters.py:326(gaussian_filter)\n",
      "      202    0.002    0.000    6.620    0.033 _filters.py:257(gaussian_filter1d)\n",
      "      202    0.002    0.000    6.610    0.033 _filters.py:125(correlate1d)\n",
      "      202    6.606    0.033    6.606    0.033 {built-in method scipy.ndimage._nd_image.correlate1d}\n",
      "      101    0.003    0.000    6.547    0.065 _filters.py:1119(uniform_filter)\n",
      "      202    0.002    0.000    6.514    0.032 _filters.py:1068(uniform_filter1d)\n",
      "      202    6.511    0.032    6.511    0.032 {built-in method scipy.ndimage._nd_image.uniform_filter1d}\n",
      "      101    0.371    0.004    0.372    0.004 dataset.py:786(__getitem__)\n",
      "      101    0.160    0.002    0.226    0.002 segmentation.py:21(correct_flat_dark)\n",
      "      606    0.004    0.000    0.075    0.000 _ni_support.py:78(_get_output)\n",
      "      303    0.066    0.000    0.066    0.000 {method 'copy' of 'numpy.ndarray' objects}\n",
      "      202    0.066    0.000    0.066    0.000 {built-in method numpy.zeros}\n",
      "      101    0.063    0.001    0.063    0.001 {method 'astype' of 'numpy.ndarray' objects}\n",
      "      101    0.000    0.000    0.012    0.000 function_base.py:3845(median)\n",
      "      101    0.001    0.000    0.012    0.000 function_base.py:3763(_ureduce)\n",
      "      101    0.002    0.000    0.011    0.000 function_base.py:3931(_median)\n",
      "      808    0.007    0.000    0.007    0.000 {method 'reduce' of 'numpy.ufunc' objects}\n",
      "      202    0.004    0.000    0.007    0.000 _filters.py:226(_gaussian_kernel1d)\n",
      "      404    0.000    0.000    0.005    0.000 {method 'min' of 'numpy.ndarray' objects}\n",
      "      404    0.000    0.000    0.005    0.000 _methods.py:43(_amin)\n",
      "      202    0.002    0.000    0.005    0.000 _dtype.py:346(_name_get)\n",
      "      101    0.001    0.000    0.004    0.000 fromnumeric.py:3385(mean)\n",
      "      101    0.002    0.000    0.003    0.000 _methods.py:101(_mean)\n",
      "      303    0.001    0.000    0.003    0.000 numerictypes.py:357(issubdtype)\n",
      "     2138    0.001    0.000    0.003    0.000 {built-in method builtins.isinstance}\n",
      "      707    0.001    0.000    0.002    0.000 _ni_support.py:62(_normalize_sequence)\n",
      "      202    0.001    0.000    0.002    0.000 _dtype.py:330(_name_includes_bit_suffix)\n",
      "      101    0.001    0.000    0.002    0.000 utils.py:1081(_median_nancheck)\n",
      "      202    0.000    0.000    0.002    0.000 {method 'sum' of 'numpy.ndarray' objects}\n",
      "      606    0.001    0.000    0.002    0.000 numerictypes.py:283(issubclass_)\n",
      "      202    0.000    0.000    0.002    0.000 _methods.py:47(_sum)\n",
      "      101    0.000    0.000    0.002    0.000 fromnumeric.py:662(partition)\n",
      "      202    0.000    0.000    0.001    0.000 <frozen abc>:117(__instancecheck__)\n",
      "      101    0.001    0.000    0.001    0.000 {method 'partition' of 'numpy.ndarray' objects}\n",
      "      202    0.001    0.000    0.001    0.000 {built-in method _abc._abc_instancecheck}\n",
      "      505    0.001    0.000    0.001    0.000 function_base.py:348(iterable)\n",
      "     1313    0.001    0.000    0.001    0.000 {built-in method builtins.issubclass}\n",
      "      404    0.001    0.000    0.001    0.000 {built-in method numpy.arange}\n",
      "      202    0.001    0.000    0.001    0.000 _ni_support.py:110(_check_axes)\n",
      "      101    0.000    0.000    0.001    0.000 {method 'any' of 'numpy.generic' objects}\n",
      "      101    0.001    0.000    0.001    0.000 _methods.py:67(_count_reduce_items)\n",
      "        1    0.000    0.000    0.001    0.001 h5py_utils.py:378(__init__)\n",
      "      404    0.001    0.000    0.001    0.000 {built-in method numpy.asanyarray}\n",
      "        2    0.000    0.000    0.001    0.000 files.py:379(__init__)\n",
      "      202    0.000    0.000    0.000    0.000 {method 'format' of 'str' objects}\n",
      "      505    0.000    0.000    0.000    0.000 {built-in method builtins.iter}\n",
      "      202    0.000    0.000    0.000    0.000 <frozen abc>:121(__subclasscheck__)\n",
      "      101    0.000    0.000    0.000    0.000 _methods.py:55(_any)\n",
      "        1    0.000    0.000    0.000    0.000 group.py:351(__getitem__)\n",
      "        1    0.000    0.000    0.000    0.000 files.py:645(__exit__)\n",
      "        1    0.000    0.000    0.000    0.000 h5py_utils.py:469(close)\n",
      "        1    0.000    0.000    0.000    0.000 files.py:620(close)\n",
      "      202    0.000    0.000    0.000    0.000 {built-in method _abc._abc_subclasscheck}\n",
      "        1    0.000    0.000    0.000    0.000 files.py:218(make_fid)\n",
      "     1414    0.000    0.000    0.000    0.000 {built-in method numpy.asarray}\n",
      "      404    0.000    0.000    0.000    0.000 _ni_support.py:37(_extend_mode_to_code)\n",
      "      101    0.000    0.000    0.000    0.000 dataset.py:554(_fast_reader)\n",
      "      404    0.000    0.000    0.000    0.000 _util.py:1050(normalize_axis_index)\n",
      "      202    0.000    0.000    0.000    0.000 _dtype.py:24(_kind_name)\n",
      "      101    0.000    0.000    0.000    0.000 {method 'take' of 'numpy.ndarray' objects}\n",
      "      101    0.000    0.000    0.000    0.000 {method 'flatten' of 'numpy.ndarray' objects}\n",
      "      606    0.000    0.000    0.000    0.000 {built-in method builtins.len}\n",
      "      101    0.000    0.000    0.000    0.000 _filters.py:1177(<listcomp>)\n",
      "      101    0.000    0.000    0.000    0.000 _filters.py:421(<listcomp>)\n",
      "      101    0.000    0.000    0.000    0.000 core.py:6485(isMaskedArray)\n",
      "      107    0.000    0.000    0.000    0.000 {built-in method builtins.hasattr}\n",
      "      202    0.000    0.000    0.000    0.000 _filters.py:53(_invalid_origin)\n",
      "        1    0.000    0.000    0.000    0.000 files.py:112(make_fapl)\n",
      "      101    0.000    0.000    0.000    0.000 multiarray.py:153(concatenate)\n",
      "      101    0.000    0.000    0.000    0.000 {method 'append' of 'list' objects}\n",
      "      101    0.000    0.000    0.000    0.000 {built-in method numpy.core._multiarray_umath.normalize_axis_index}\n",
      "      202    0.000    0.000    0.000    0.000 {method 'get' of 'dict' objects}\n",
      "      2/1    0.000    0.000    0.000    0.000 base.py:528(__get__)\n",
      "        1    0.000    0.000    0.000    0.000 dataset.py:778(_fast_read_ok)\n",
      "        1    0.000    0.000    0.000    0.000 files.py:189(make_fcpl)\n",
      "      101    0.000    0.000    0.000    0.000 fromnumeric.py:3380(_mean_dispatcher)\n",
      "        1    0.000    0.000    0.000    0.000 base.py:278(file)\n",
      "        1    0.000    0.000    0.000    0.000 dataset.py:682(__init__)\n",
      "      101    0.000    0.000    0.000    0.000 function_base.py:3840(_median_dispatcher)\n",
      "      101    0.000    0.000    0.000    0.000 fromnumeric.py:658(_partition_dispatcher)\n",
      "        1    0.000    0.000    0.000    0.000 dataset.py:657(_extent_type)\n",
      "        2    0.000    0.000    0.000    0.000 {built-in method numpy.empty}\n",
      "        2    0.000    0.000    0.000    0.000 group.py:34(__init__)\n",
      "        5    0.000    0.000    0.000    0.000 <frozen importlib._bootstrap>:405(parent)\n",
      "       11    0.000    0.000    0.000    0.000 base.py:303(id)\n",
      "        5    0.000    0.000    0.000    0.000 <frozen importlib._bootstrap>:1207(_handle_fromlist)\n",
      "        1    0.000    0.000    0.000    0.000 compat.py:17(filename_encode)\n",
      "        1    0.000    0.000    0.000    0.000 files.py:319(mode)\n",
      "        1    0.000    0.000    0.000    0.000 h5py_utils.py:111(_hdf5_file_locking)\n",
      "        1    0.000    0.000    0.000    0.000 base.py:173(_e)\n",
      "        1    0.000    0.000    0.000    0.000 <frozen os>:806(fsencode)\n",
      "        3    0.000    0.000    0.000    0.000 base.py:336(__init__)\n",
      "        1    0.000    0.000    0.000    0.000 {method 'disable' of '_lsprof.Profiler' objects}\n",
      "        5    0.000    0.000    0.000    0.000 {method 'rpartition' of 'str' objects}\n",
      "        2    0.000    0.000    0.000    0.000 {method 'encode' of 'str' objects}\n",
      "        1    0.000    0.000    0.000    0.000 h5py_utils.py:477(_file_close_callback)\n",
      "        2    0.000    0.000    0.000    0.000 {method 'setdefault' of 'dict' objects}\n",
      "        1    0.000    0.000    0.000    0.000 h5py_utils.py:473(_file_open_callback)\n",
      "        1    0.000    0.000    0.000    0.000 base.py:161(_lapl)\n",
      "        1    0.000    0.000    0.000    0.000 h5py_utils.py:97(_libver_low_bound_is_v108)\n",
      "        2    0.000    0.000    0.000    0.000 {built-in method posix.fspath}\n",
      "        1    0.000    0.000    0.000    0.000 files.py:641(__enter__)"
     ]
    }
   ],
   "source": [
    "%prun -s cumulative read_and_correct()"
   ]
  },
  {
   "cell_type": "code",
   "execution_count": null,
   "metadata": {},
   "outputs": [],
   "source": []
  }
 ],
 "metadata": {
  "kernelspec": {
   "display_name": "Python 3 (main)",
   "language": "python",
   "name": "python3"
  },
  "language_info": {
   "codemirror_mode": {
    "name": "ipython",
    "version": 3
   },
   "file_extension": ".py",
   "mimetype": "text/x-python",
   "name": "python",
   "nbconvert_exporter": "python",
   "pygments_lexer": "ipython3",
   "version": "3.12.9"
  }
 },
 "nbformat": 4,
 "nbformat_minor": 4
}
