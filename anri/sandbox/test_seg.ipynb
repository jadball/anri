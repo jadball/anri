{
 "cells": [
  {
   "cell_type": "code",
   "execution_count": null,
   "metadata": {},
   "outputs": [],
   "source": [
    "import fabio\n",
    "import ImageD11.cImageD11\n",
    "import numpy as np\n",
    "from matplotlib import pyplot as plt\n",
    "from segmentation import LocalBGCorrector, load_test_image\n",
    "from tqdm.autonotebook import tqdm\n",
    "\n",
    "%matplotlib ipympl"
   ]
  },
  {
   "cell_type": "code",
   "execution_count": null,
   "metadata": {},
   "outputs": [],
   "source": [
    "image = load_test_image(\n",
    "    \"/data/visitor/es1416/id11/20240430/RAW_DATA/NaCl52_water/NaCl52_water_FF_0/NaCl52_water_FF_0.h5\"\n",
    ").astype(np.float32)\n",
    "mask = fabio.open(\"/data/visitor/es1416/id11/20240430/SCRIPTS/james_ball/2025/S3DXRD/frelon_mask.edf\").data.astype(\n",
    "    bool\n",
    ")\n",
    "bg = fabio.open(\n",
    "    \"/data/visitor/es1416/id11/20240430/SCRIPTS/james_ball/2025/S3DXRD/frelon_background_es1416.edf\"\n",
    ").data.astype(np.float32)\n",
    "flat = fabio.open(\"/data/visitor/es1416/id11/20240430/SCRIPTS/james_ball/2025/S3DXRD/F36_Nov2023.edf\").data.astype(\n",
    "    np.float32\n",
    ")\n",
    "dark = fabio.open(\n",
    "    \"/data/visitor/es1416/id11/20240430/SCRIPTS/james_ball/2025/S3DXRD/dark_20240416.edf\"\n",
    ").data.astype(np.float32)\n",
    "\n",
    "corrfunc = LocalBGCorrector(\n",
    "    threshold=100,\n",
    "    smoothsigma=1.0,\n",
    "    bgc=0.9,\n",
    "    bg=bg,\n",
    "    dark=dark,\n",
    "    flat=flat,\n",
    "    mask=mask,\n",
    "    m_offset_thresh=70,\n",
    "    m_ratio_thresh=150,\n",
    ")\n",
    "\n",
    "corrected = corrfunc(image)\n",
    "\n",
    "fig, axs = plt.subplots(1, 2, sharex=True, sharey=True, constrained_layout=True, figsize=(13, 7))\n",
    "axs[0].imshow(image, norm=\"log\", vmin=100, vmax=1000, interpolation=\"nearest\")\n",
    "axs[1].imshow(corrected, norm=\"log\", vmin=100, vmax=1000, interpolation=\"nearest\")\n",
    "axs[0].set_title(\"Raw image\")\n",
    "axs[1].set_title(\"Corrected\")\n",
    "plt.show()"
   ]
  },
  {
   "cell_type": "code",
   "execution_count": null,
   "metadata": {},
   "outputs": [],
   "source": [
    "import h5py\n",
    "\n",
    "with h5py.File(\n",
    "    \"/data/visitor/es1416/id11/20240430/RAW_DATA/NaCl52_water/NaCl52_water_FF_0/NaCl52_water_FF_0.h5\",\n",
    "    \"r\",\n",
    ") as f:\n",
    "    dset = f.get(\"/1.1/measurement/frelon3\")[:]"
   ]
  },
  {
   "cell_type": "code",
   "execution_count": null,
   "metadata": {},
   "outputs": [],
   "source": [
    "def process_images():\n",
    "    for image in tqdm(dset[:50], desc=\"Correcting images\"):\n",
    "        corrected = corrfunc(image.astype(np.float32))\n",
    "\n",
    "\n",
    "%prun process_images()"
   ]
  },
  {
   "cell_type": "code",
   "execution_count": null,
   "metadata": {},
   "outputs": [],
   "source": [
    "labels = np.empty(image.shape, dtype=\"i\")\n",
    "wrk = np.empty(image.shape, dtype=\"b\")\n",
    "npks = ImageD11.cImageD11.localmaxlabel(corrected, labels, wrk)"
   ]
  },
  {
   "cell_type": "code",
   "execution_count": null,
   "metadata": {},
   "outputs": [],
   "source": [
    "blobs = ImageD11.cImageD11.blobproperties(corrected, labels * (corrected > 0), npks, omega=0.0)\n",
    "ImageD11.cImageD11.blob_moments(blobs)\n",
    "enoughpx = blobs[:, ImageD11.cImageD11.s_1] >= 3\n",
    "goodpeaks = blobs[enoughpx]"
   ]
  },
  {
   "cell_type": "code",
   "execution_count": null,
   "metadata": {},
   "outputs": [],
   "source": [
    "fig, axs = plt.subplots(1, 3, sharex=True, sharey=True, constrained_layout=True, figsize=(13, 7))\n",
    "axs[0].imshow(image, norm=\"log\", vmin=100, vmax=1000, interpolation=\"nearest\")\n",
    "axs[1].imshow(corrected, norm=\"log\", vmin=100, vmax=1000, interpolation=\"nearest\")\n",
    "axs[2].imshow(image, norm=\"log\", vmin=100, vmax=1000, interpolation=\"nearest\")\n",
    "fc, sc = goodpeaks[:, 23:25].T\n",
    "axs[2].scatter(fc, sc, c=\"red\", marker=\"+\")\n",
    "axs[0].set_title(\"Raw image\")\n",
    "axs[1].set_title(\"Corrected\")\n",
    "axs[2].set_title(\"Raw image with peaks\")\n",
    "plt.show()"
   ]
  },
  {
   "cell_type": "code",
   "execution_count": null,
   "metadata": {},
   "outputs": [],
   "source": []
  }
 ],
 "metadata": {
  "kernelspec": {
   "display_name": "Python 3",
   "language": "python",
   "name": "python3"
  },
  "language_info": {
   "codemirror_mode": {
    "name": "ipython",
    "version": 3
   },
   "file_extension": ".py",
   "mimetype": "text/x-python",
   "name": "python",
   "nbconvert_exporter": "python",
   "pygments_lexer": "ipython3",
   "version": "3.11.11"
  }
 },
 "nbformat": 4,
 "nbformat_minor": 2
}
