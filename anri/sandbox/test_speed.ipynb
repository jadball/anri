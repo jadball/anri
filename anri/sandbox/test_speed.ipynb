{
 "cells": [
  {
   "cell_type": "code",
   "execution_count": 178,
   "metadata": {},
   "outputs": [],
   "source": [
    "import jax\n",
    "import jax.numpy as jnp\n",
    "from jax import lax\n",
    "import scipy.ndimage\n",
    "from jax.lax import reduce_window"
   ]
  },
  {
   "cell_type": "code",
   "execution_count": 222,
   "metadata": {},
   "outputs": [],
   "source": [
    "def uniform_filter_jax(input, size, axis=None):\n",
    "    input = jnp.asarray(input)\n",
    "    \n",
    "    if axis is None:\n",
    "        size = (size,) * input.ndim if isinstance(size, int) else tuple(size)\n",
    "        kernel = jnp.ones(size, dtype=input.dtype) / jnp.prod(jnp.array(size))\n",
    "        \n",
    "        # Reflective padding matching SciPy\n",
    "        pad_width = [(s // 2, s // 2) for s in size]\n",
    "        input_padded = jnp.pad(input, pad_width, mode='edge')\n",
    "        \n",
    "        result = lax.conv_general_dilated(\n",
    "            input_padded[None, None],  # Add batch and channel dims\n",
    "            kernel[None, None],  # Add batch and channel dims\n",
    "            window_strides=(1,) * input.ndim,\n",
    "            padding='VALID'  # Since we manually pad\n",
    "        )[0, 0]  # Remove batch and channel dims\n",
    "        return result\n",
    "    else:\n",
    "        shape = [1] * input.ndim\n",
    "        shape[axis] = size\n",
    "        kernel = jnp.ones(tuple(shape), dtype=input.dtype) / size\n",
    "        \n",
    "        # Reflective padding matching SciPy for the given axis\n",
    "        pad_width = [(0, 0)] * input.ndim\n",
    "        pad_width[axis] = (size // 2, size // 2)\n",
    "        input_padded = jnp.pad(input, pad_width, mode='edge')\n",
    "        \n",
    "        result = lax.conv_general_dilated(\n",
    "            input_padded[None, None],  # Add batch and channel dims\n",
    "            kernel[None, None],  # Add batch and channel dims\n",
    "            window_strides=(1,) * input.ndim,\n",
    "            padding='VALID'  # Since we manually pad\n",
    "        )[0, 0]  # Remove batch and channel dims\n",
    "        return result"
   ]
  },
  {
   "cell_type": "code",
   "execution_count": 223,
   "metadata": {},
   "outputs": [],
   "source": [
    "# Example input image\n",
    "image = jnp.array([[1, 2, 3],\n",
    "                          [4, 5, 6],\n",
    "                          [7, 8, 9]], dtype=jnp.float32)"
   ]
  },
  {
   "cell_type": "code",
   "execution_count": 224,
   "metadata": {},
   "outputs": [
    {
     "name": "stdout",
     "output_type": "stream",
     "text": [
      "[[2.3333333 3.        3.666667 ]\n",
      " [4.3333335 5.        5.666667 ]\n",
      " [6.333333  7.        7.6666665]]\n"
     ]
    }
   ],
   "source": [
    "filtered_image = uniform_filter_jax(image, 3)\n",
    "\n",
    "print(filtered_image)"
   ]
  },
  {
   "cell_type": "code",
   "execution_count": 225,
   "metadata": {},
   "outputs": [],
   "source": [
    "# Example input image\n",
    "image = jnp.array([[1, 2, 3],\n",
    "                          [4, 5, 6],\n",
    "                          [7, 8, 9]], dtype=jnp.float32)"
   ]
  },
  {
   "cell_type": "code",
   "execution_count": 226,
   "metadata": {},
   "outputs": [
    {
     "name": "stdout",
     "output_type": "stream",
     "text": [
      "[[2.3333333 3.        3.6666667]\n",
      " [4.3333335 5.        5.6666665]\n",
      " [6.3333335 7.        7.6666665]]\n"
     ]
    }
   ],
   "source": [
    "scipy_filtered_image = scipy.ndimage.uniform_filter(image, size=3)\n",
    "\n",
    "print(scipy_filtered_image)"
   ]
  },
  {
   "cell_type": "code",
   "execution_count": 229,
   "metadata": {},
   "outputs": [],
   "source": [
    "assert jnp.allclose(filtered_image, scipy_filtered_image)"
   ]
  },
  {
   "cell_type": "code",
   "execution_count": null,
   "metadata": {},
   "outputs": [],
   "source": []
  }
 ],
 "metadata": {
  "kernelspec": {
   "display_name": "Python 3 (main)",
   "language": "python",
   "name": "python3"
  },
  "language_info": {
   "codemirror_mode": {
    "name": "ipython",
    "version": 3
   },
   "file_extension": ".py",
   "mimetype": "text/x-python",
   "name": "python",
   "nbconvert_exporter": "python",
   "pygments_lexer": "ipython3",
   "version": "3.12.9"
  }
 },
 "nbformat": 4,
 "nbformat_minor": 4
}
