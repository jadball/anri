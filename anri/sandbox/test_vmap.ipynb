{
 "cells": [
  {
   "cell_type": "code",
   "execution_count": 1,
   "id": "46f9a01a-2695-40e4-8b94-6ecf25094165",
   "metadata": {},
   "outputs": [],
   "source": [
    "import os\n",
    "os.environ[\"XLA_PYTHON_CLIENT_PREALLOCATE\"] = \"0\""
   ]
  },
  {
   "cell_type": "code",
   "execution_count": null,
   "id": "2eb39aad-7487-4137-936a-59e9800211bc",
   "metadata": {},
   "outputs": [],
   "source": [
    "import jax\n",
    "import jax.numpy as jnp"
   ]
  },
  {
   "cell_type": "code",
   "execution_count": null,
   "id": "15a18e99-6efb-41bb-9b50-3859200aaeb2",
   "metadata": {},
   "outputs": [],
   "source": [
    "def get_expensive_scalar(arg1, arg2):\n",
    "    \"\"\"Expensive computation that eventually returns a scalar\"\"\"\n",
    "    return arg1 + arg2"
   ]
  },
  {
   "cell_type": "code",
   "execution_count": null,
   "id": "98ff0b1b-7c2c-4310-b849-8531488f9d34",
   "metadata": {},
   "outputs": [],
   "source": [
    "def _add_scalar(arr_elem, arg1, arg2):\n",
    "    scalar = get_expensive_scalar(arg1, arg2)\n",
    "    result = arr_elem + scalar\n",
    "    return result"
   ]
  },
  {
   "cell_type": "code",
   "execution_count": null,
   "id": "9780924b-7e77-4f3c-91ec-6a71e7f427f5",
   "metadata": {},
   "outputs": [],
   "source": [
    "add_scalar = jax.jit(jax.vmap(_add_scalar, in_axes=[0, None, None]))"
   ]
  },
  {
   "cell_type": "code",
   "execution_count": null,
   "id": "a9da4428-d7bd-40b2-88be-8561f48d5a5a",
   "metadata": {},
   "outputs": [],
   "source": [
    "vec_in = jnp.ones(100)"
   ]
  },
  {
   "cell_type": "code",
   "execution_count": null,
   "id": "eaff601e-abd1-467e-93f5-f397fd686703",
   "metadata": {},
   "outputs": [],
   "source": [
    "add_scalar(vec_in, 1, 2)"
   ]
  },
  {
   "cell_type": "code",
   "execution_count": 2,
   "id": "1bcf85e9-9f83-4675-ae8d-01e0422fa19b",
   "metadata": {},
   "outputs": [
    {
     "data": {
      "text/plain": [
       "Array([4., 4., 4., 4., 4., 4., 4., 4., 4., 4., 4., 4., 4., 4., 4., 4., 4.,\n",
       "       4., 4., 4., 4., 4., 4., 4., 4., 4., 4., 4., 4., 4., 4., 4., 4., 4.,\n",
       "       4., 4., 4., 4., 4., 4., 4., 4., 4., 4., 4., 4., 4., 4., 4., 4., 4.,\n",
       "       4., 4., 4., 4., 4., 4., 4., 4., 4., 4., 4., 4., 4., 4., 4., 4., 4.,\n",
       "       4., 4., 4., 4., 4., 4., 4., 4., 4., 4., 4., 4., 4., 4., 4., 4., 4.,\n",
       "       4., 4., 4., 4., 4., 4., 4., 4., 4., 4., 4., 4., 4., 4., 4.],      dtype=float32)"
      ]
     },
     "execution_count": 2,
     "metadata": {},
     "output_type": "execute_result"
    }
   ],
   "source": [
    "import jax\n",
    "import jax.numpy as jnp\n",
    "\n",
    "def get_expensive_scalar(arg1, arg2):\n",
    "    \"\"\"Expensive computation that eventually returns a scalar\"\"\"\n",
    "    return arg1 + arg2\n",
    "\n",
    "def _add_scalar(arr_elem, arg1, arg2):\n",
    "    \"\"\"The function we will vmap\"\"\"\n",
    "    scalar = get_expensive_scalar(arg1, arg2)\n",
    "    result = arr_elem + scalar\n",
    "    return result\n",
    "\n",
    "add_scalar = jax.jit(jax.vmap(_add_scalar, in_axes=[0, None, None]))\n",
    "\n",
    "vec_in = jnp.ones(100)\n",
    "\n",
    "add_scalar(vec_in, 1, 2)"
   ]
  },
  {
   "cell_type": "code",
   "execution_count": null,
   "id": "5fb305df-874f-4489-8e88-f2726baead8f",
   "metadata": {},
   "outputs": [],
   "source": []
  }
 ],
 "metadata": {
  "kernelspec": {
   "display_name": "Python 3 (main)",
   "language": "python",
   "name": "python3"
  },
  "language_info": {
   "codemirror_mode": {
    "name": "ipython",
    "version": 3
   },
   "file_extension": ".py",
   "mimetype": "text/x-python",
   "name": "python",
   "nbconvert_exporter": "python",
   "pygments_lexer": "ipython3",
   "version": "3.12.9"
  }
 },
 "nbformat": 4,
 "nbformat_minor": 5
}
